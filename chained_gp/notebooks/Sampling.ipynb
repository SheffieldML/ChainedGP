{
 "cells": [
  {
   "cell_type": "code",
   "execution_count": 1,
   "metadata": {
    "collapsed": false
   },
   "outputs": [
    {
     "name": "stdout",
     "output_type": "stream",
     "text": [
      "Caching disabled: False\n"
     ]
    }
   ],
   "source": [
    "import GPy\n",
    "import matplotlib.pylab as plt\n",
    "import numpy as np\n",
    "import scipy as sp\n",
    "\n",
    "%matplotlib inline\n",
    "np.random.seed(1)"
   ]
  },
  {
   "cell_type": "markdown",
   "metadata": {},
   "source": [
    "Want to do integral of $\\int q(g_{i})q(f_{i})log p(y|f_{i},g_{i}) df_{i} dg_{i}$ with quadrature and sampling"
   ]
  },
  {
   "cell_type": "code",
   "execution_count": 2,
   "metadata": {
    "collapsed": false
   },
   "outputs": [],
   "source": [
    "X = np.linspace(0,5,100)[:, None]\n",
    "\n",
    "kg = GPy.kern.RBF(1, lengthscale=2.0) + GPy.kern.White(1, variance=1e-5)\n",
    "kf = GPy.kern.RBF(1, lengthscale=2.5)  + GPy.kern.White(1, variance=1e-5)\n",
    "Kg = kg.K(X)\n",
    "Kf = kf.K(X)\n",
    "mf = np.ones((X.shape[0], 1))*0\n",
    "mg = np.ones((X.shape[0], 1))*np.log(0.2) \n",
    "\n",
    "g = mg + GPy.util.linalg.jitchol(Kg).dot(np.random.randn(*X.shape))\n",
    "f = mf + GPy.util.linalg.jitchol(Kf).dot(np.random.randn(*X.shape))"
   ]
  },
  {
   "cell_type": "code",
   "execution_count": 3,
   "metadata": {
    "collapsed": false
   },
   "outputs": [],
   "source": [
    "#True posterior\n",
    "#Approximate, use prior for starting, plus some noise to make them different\n",
    "qf_mean = mf + np.random.randn(*mf.shape)*1e-1\n",
    "qg_mean = mg + np.random.randn(*mg.shape)*1e-1\n",
    "qf_var = np.abs(np.diag(Kf)[:, None] + np.random.randn(*mf.shape)*1e-1)\n",
    "qg_var = np.abs(np.diag(Kg)[:, None] + np.random.randn(*mf.shape)*1e-1)\n",
    "\n",
    "mu = np.hstack((qf_mean, qg_mean))\n",
    "var = np.hstack((qf_var, qg_var))"
   ]
  },
  {
   "cell_type": "markdown",
   "metadata": {},
   "source": [
    "## Sampling idea"
   ]
  },
  {
   "cell_type": "markdown",
   "metadata": {},
   "source": [
    "Kingma has a very simple reparameterization that reduces the variance gradients of a MCMC integration.\n",
    "\n",
    "Essentially we want to do an integral of a unknown function, over a Gaussian, and to do the sampling, we will take many samples from the Gaussian, multiply them by the value of the unknown function at that point. The reparameterization says that instead of making a Gaussian that covers the entire region, sample from a univariate Gaussian, and stretch the point into the correct position, and evaluate at this point."
   ]
  },
  {
   "cell_type": "markdown",
   "metadata": {},
   "source": [
    "##Gaussian\n",
    "\n",
    "Lets try do the integral for the Gaussian first using sampling and compare speeds"
   ]
  },
  {
   "cell_type": "code",
   "execution_count": 4,
   "metadata": {
    "collapsed": false
   },
   "outputs": [
    {
     "data": {
      "text/plain": [
       "[<matplotlib.lines.Line2D at 0x10d0cddd0>]"
      ]
     },
     "execution_count": 4,
     "metadata": {},
     "output_type": "execute_result"
    },
    {
     "data": {
      "image/png": "[encoded data removed]",
      "text/plain": [
       "<matplotlib.figure.Figure at 0x10cd59150>"
      ]
     },
     "metadata": {},
     "output_type": "display_data"
    }
   ],
   "source": [
    "Ygauss = f + np.random.randn(*X.shape)*np.sqrt(np.exp(g)) + np.random.randn(*X.shape)*1e-5\n",
    "fig, (ax1, ax2, ax3) = plt.subplots(1,3)\n",
    "ax1.plot(X,Ygauss, 'bx')\n",
    "ax2.plot(X,f, 'rx')\n",
    "ax3.plot(X,np.exp(g), 'gx')"
   ]
  },
  {
   "cell_type": "markdown",
   "metadata": {},
   "source": [
    "Do the integrals analytically and get the gradients"
   ]
  },
  {
   "cell_type": "code",
   "execution_count": 5,
   "metadata": {
    "collapsed": false
   },
   "outputs": [],
   "source": [
    "from chained_gp.hetgp import HetGP\n",
    "hgp = HetGP()\n",
    "int_logpy, int_logpy_dmu, int_logpy_dvar, int_logpy_dtheta = hgp.variational_expectations(Ygauss, mu, var)"
   ]
  },
  {
   "cell_type": "markdown",
   "metadata": {},
   "source": [
    "Do the integrals vias sampling"
   ]
  },
  {
   "cell_type": "code",
   "execution_count": 6,
   "metadata": {
    "collapsed": false
   },
   "outputs": [],
   "source": [
    "#The function we wish to sample\n",
    "def log_norm_func(z, y):\n",
    "    #z is a sample from q(f,g)\n",
    "    D = y.shape[1]\n",
    "    fv, gv = z[:, :D], z[:, D:]\n",
    "    e_g = np.exp(gv)\n",
    "    y_f2 = (y-fv)**2\n",
    "    res = -0.5*np.log(2*np.pi) - 0.5*gv - 0.5*(y_f2/e_g)\n",
    "    return res"
   ]
  },
  {
   "cell_type": "code",
   "execution_count": 7,
   "metadata": {
    "collapsed": false
   },
   "outputs": [],
   "source": [
    "def get_unit_samples(m, v, num_samples=20000):\n",
    "    #unit_norm = sp.stats.multivariate_normal(mean=np.zeros(2), cov=np.eye(2))\n",
    "    #samp = unit_norm.rvs(num_samples)[:, None, :]\n",
    "    samp = np.random.randn(num_samples, 1, 2)\n",
    "    z = m[None, :, :] + np.sqrt(v[None, :, :])*samp\n",
    "    z = np.rollaxis(z, 0, 3)  # put samples on the last dimension for broadcasting purposes\n",
    "    return z\n",
    "z = get_unit_samples(mu, var, num_samples=20000)"
   ]
  },
  {
   "cell_type": "code",
   "execution_count": 8,
   "metadata": {
    "collapsed": false
   },
   "outputs": [
    {
     "data": {
      "text/plain": [
       "(100, 1, 20000)"
      ]
     },
     "execution_count": 8,
     "metadata": {},
     "output_type": "execute_result"
    }
   ],
   "source": [
    "log_norm_func(z, Ygauss[:, :, None]).shape"
   ]
  },
  {
   "cell_type": "code",
   "execution_count": 9,
   "metadata": {
    "collapsed": false
   },
   "outputs": [],
   "source": [
    "def variational_expectations_sampling(Y, mu, var, num_samples=20000):\n",
    "    #Get the sample points\n",
    "    samples = get_unit_samples(mu, var, num_samples=num_samples)\n",
    "    # Need to add dimension to Y to broadcast it across samples\n",
    "    #Evaluate at those sample points and take the mean over all the samples\n",
    "    int_log_py_samp = np.mean(log_norm_func(samples, Ygauss[:, None]), -1)  \n",
    "    return int_log_py_samp"
   ]
  },
  {
   "cell_type": "code",
   "execution_count": 10,
   "metadata": {
    "collapsed": false
   },
   "outputs": [],
   "source": [
    "def standard_sampling(Y, mu, var, num_samples=20000):\n",
    "    f_samples = np.random.multivariate_normal(mean=mu[:,0], cov=np.diagflat(var[:,0]), size=num_samples)[None, :]\n",
    "    g_samples = np.random.multivariate_normal(mean=mu[:,1], cov=np.diagflat(var[:,1]), size=num_samples)[None, :]\n",
    "    samples = np.vstack((f_samples, g_samples))\n",
    "    samples = np.swapaxes(samples, 0, 2)\n",
    "    samples = np.swapaxes(samples, 1, 2)\n",
    "    int_log_py_samp = np.mean(log_norm_func(samples, Ygauss[:, None]), -1)  \n",
    "    return int_log_py_samp"
   ]
  },
  {
   "cell_type": "markdown",
   "metadata": {},
   "source": [
    "Now lets compare speeds and accuracy of the sampling approach"
   ]
  },
  {
   "cell_type": "code",
   "execution_count": 11,
   "metadata": {
    "collapsed": false
   },
   "outputs": [],
   "source": [
    "num_samples = 150"
   ]
  },
  {
   "cell_type": "code",
   "execution_count": 12,
   "metadata": {
    "collapsed": false
   },
   "outputs": [],
   "source": [
    "int_log_py_samp = variational_expectations_sampling(Ygauss, mu, var, num_samples=num_samples)"
   ]
  },
  {
   "cell_type": "code",
   "execution_count": 13,
   "metadata": {
    "collapsed": false
   },
   "outputs": [],
   "source": [
    "int_log_py_samp_standard = standard_sampling(Ygauss, mu, var, num_samples=num_samples)"
   ]
  },
  {
   "cell_type": "code",
   "execution_count": 14,
   "metadata": {
    "collapsed": false
   },
   "outputs": [
    {
     "name": "stdout",
     "output_type": "stream",
     "text": [
      "1000 loops, best of 3: 484 µs per loop\n",
      "10000 loops, best of 3: 38.4 µs per loop\n",
      "1000 loops, best of 3: 242 µs per loop\n"
     ]
    }
   ],
   "source": [
    "%timeit variational_expectations_sampling(Ygauss, mu, var, num_samples=num_samples)\n",
    "%timeit hgp.variational_expectations(Ygauss, mu, var)\n",
    "%timeit get_unit_samples(mu, var, num_samples=num_samples)\n",
    "#samples = get_unit_samples(mu, var, num_samples=num_samples)\n",
    "#%timeit log_norm_func(samples, Y[:, None])\n",
    "#%timeit np.rollaxis(np.random.randn(num_samples, 2)[:, None, :], 0, 3)  # This is quick, its the computation that is slow"
   ]
  },
  {
   "cell_type": "markdown",
   "metadata": {},
   "source": [
    "Turns out not to be super fast. About 1000 times slower (than the analytical, of course)"
   ]
  },
  {
   "cell_type": "code",
   "execution_count": 15,
   "metadata": {
    "collapsed": false
   },
   "outputs": [
    {
     "name": "stdout",
     "output_type": "stream",
     "text": [
      "0.0230357588693\n",
      "5.39192579632\n"
     ]
    }
   ],
   "source": [
    "diff = np.abs(int_log_py_samp -  int_logpy)\n",
    "diff = np.abs(int_log_py_samp_standard -  int_logpy)\n",
    "print diff.min()\n",
    "print diff.max()"
   ]
  },
  {
   "cell_type": "code",
   "execution_count": 16,
   "metadata": {
    "collapsed": false
   },
   "outputs": [
    {
     "data": {
      "text/plain": [
       "[<matplotlib.lines.Line2D at 0x10d1f0e50>]"
      ]
     },
     "execution_count": 16,
     "metadata": {},
     "output_type": "execute_result"
    },
    {
     "data": {
      "image/png": "[encoded data removed]",
      "text/plain": [
       "<matplotlib.figure.Figure at 0x103af6f90>"
      ]
     },
     "metadata": {},
     "output_type": "display_data"
    }
   ],
   "source": [
    "plt.plot(X, int_logpy, 'g')\n",
    "plt.plot(X, int_log_py_samp, 'b')\n",
    "plt.plot(X, int_log_py_samp_standard, 'r')"
   ]
  },
  {
   "cell_type": "markdown",
   "metadata": {},
   "source": [
    "## Non-Gaussian functions\n",
    "We will now look at non-Gaussian functions we would like to integrate and see how well quadrature compares to MC sampling\n",
    "\n",
    "### The functions we wish to sample"
   ]
  },
  {
   "cell_type": "code",
   "execution_count": 17,
   "metadata": {
    "collapsed": false
   },
   "outputs": [],
   "source": [
    "def gauss_log_pdf(fv, gv, y):\n",
    "    e_g = np.exp(gv)\n",
    "    y_f2 = (y-fv)**2\n",
    "    res = -0.5*np.log(2*np.pi) - 0.5*gv - 0.5*(y_f2/e_g)\n",
    "    return res"
   ]
  },
  {
   "cell_type": "code",
   "execution_count": 18,
   "metadata": {
    "collapsed": false
   },
   "outputs": [],
   "source": [
    "from scipy.special import gammaln, gamma\n",
    "deg_free=3.5\n",
    "def stut_log_pdf(fv, gv, y):\n",
    "    df = float(deg_free)\n",
    "    y_f2 = (y-fv)**2\n",
    "    lnpdf = gammaln(0.5*(df+1)) - gammaln(0.5*df) - 0.5*np.log(df*np.pi) - 0.5*gv - 0.5*(df+1)*np.log1p(y_f2/(df*np.exp(gv)))\n",
    "    return lnpdf"
   ]
  },
  {
   "cell_type": "code",
   "execution_count": 19,
   "metadata": {
    "collapsed": false
   },
   "outputs": [],
   "source": [
    "from scipy.special import beta, betaln, gammaln, gamma, polygamma, zeta\n",
    "from scipy.special import psi\n",
    "def beta_log_pdf(fv, gv, y):\n",
    "    ef = np.exp(fv)\n",
    "    eg = np.exp(gv)\n",
    "    lnpdf = (ef - 1)*np.log(y) + (eg - 1)*np.log(1-y) - betaln(ef, eg)\n",
    "    return lnpdf"
   ]
  },
  {
   "cell_type": "code",
   "execution_count": 20,
   "metadata": {
    "collapsed": false
   },
   "outputs": [],
   "source": [
    "from scipy.stats import beta as beta_dist\n",
    "from scipy.stats import t as stut\n",
    "# Generate some data\n",
    "Ybeta = [beta_dist.rvs(a=np.exp(fi), b=np.exp(gi)) for fi, gi in zip(f[:,0], g[:,0])]\n",
    "Ybeta = np.asarray(Ybeta)[:, None]\n",
    "Ystut = [stut.rvs(df=deg_free, loc=fi, scale=np.exp(gi)) for fi, gi in zip(f[:,0], g[:,0])]\n",
    "Ystut = np.asarray(Ystut)[:, None]"
   ]
  },
  {
   "cell_type": "markdown",
   "metadata": {},
   "source": [
    "We are going to look at the quality of the approximation as a bunch of points. We expect quadrature to do well in areas that can be well approximated by a lower order polynomial"
   ]
  },
  {
   "cell_type": "code",
   "execution_count": 21,
   "metadata": {
    "collapsed": false
   },
   "outputs": [
    {
     "data": {
      "text/plain": [
       "<matplotlib.text.Text at 0x10f43bfd0>"
      ]
     },
     "execution_count": 21,
     "metadata": {},
     "output_type": "execute_result"
    },
    {
     "data": {
      "image/png": "[encoded data removed]",
      "text/plain": [
       "<matplotlib.figure.Figure at 0x10cf0efd0>"
      ]
     },
     "metadata": {},
     "output_type": "display_data"
    }
   ],
   "source": [
    "i = 10 \n",
    "dist = 'stut'\n",
    "if dist == 'stut':\n",
    "    Y = Ystut \n",
    "    pdf_to_use = stut_log_pdf\n",
    "elif dist =='beta':\n",
    "    Y = Ybeta\n",
    "    pdf_to_use = beta_log_pdf\n",
    "else:\n",
    "    Y = Ygauss\n",
    "    pdf_to_use = gauss_log_pdf\n",
    "\n",
    "Yi = Y[i:i+1, :]\n",
    "Xi = X[i:i+1, :]\n",
    "mi = mu[i:i+1, :]\n",
    "vi = var[i:i+1, :]\n",
    "zi = z[i:i+1, :]\n",
    "\n",
    "#Close to the mode of the student-t is a value of Yi that is close to mu[i:i+1]\n",
    "mode_ind = 40\n",
    "Yi_mode = f[mode_ind:mode_ind+1, 0:1] + 0.1\n",
    "Yi_tail = f[mode_ind:mode_ind+1, 0:1] + 0.9\n",
    "Yi_far_tail = mu[mode_ind:mode_ind+1, 0:1] + 3.0\n",
    "\n",
    "fig = plt.figure()\n",
    "dashes = (3,3)\n",
    "calpha = 0.8\n",
    "ax1 = plt.subplot(1,1,1)\n",
    "ax1.plot(X, Ystut, 'kx', mfc='none')\n",
    "ax1.plot(X, f[:,0], 'b-')\n",
    "ax1.plot(X, f[:,0] + np.exp(g[:,0]), 'b--', dashes=dashes)\n",
    "ax1.plot(X, f[:,0] - np.exp(g[:,0]), 'b--', dashes=dashes)\n",
    "plt.plot(X[mode_ind], Yi_mode, 'bo', alpha=calpha)\n",
    "plt.plot(X[mode_ind], Yi_tail, 'ro', alpha=calpha)\n",
    "plt.plot(X[mode_ind], Yi_far_tail, 'go', alpha=calpha)\n",
    "ax1.set_title('Simulated heteroscedastic Student-t data, with sample points for MC vs quadrature')\n",
    "#from matplotlib2tikz import save as tikz_save\n",
    "#tikz_save('MCvsQuad_stut_process.tikz', figure=fig)"
   ]
  },
  {
   "cell_type": "code",
   "execution_count": 23,
   "metadata": {
    "collapsed": false
   },
   "outputs": [
    {
     "name": "stdout",
     "output_type": "stream",
     "text": [
      "Tail pdf [[ 0.16157392]]\n",
      "Far tail pdf [[ 0.05175615]]\n"
     ]
    }
   ],
   "source": [
    "#Evaluate pdf for stut at the points\n",
    "print(\"Tail pdf {}\".format(np.exp(stut_log_pdf(mu[mode_ind:mode_ind+1, 0], var[mode_ind:mode_ind+1, 0], Yi_tail))))\n",
    "print(\"Far tail pdf {}\".format(np.exp(stut_log_pdf(mu[mode_ind:mode_ind+1, 0], var[mode_ind:mode_ind+1, 0], Yi_far_tail))))"
   ]
  },
  {
   "cell_type": "code",
   "execution_count": 24,
   "metadata": {
    "collapsed": false
   },
   "outputs": [],
   "source": [
    "from chained_gp.hetgp import HetGP\n",
    "hgp = HetGP()\n",
    "# Use GPy code to do quadrature\n",
    "int_logpyi, int_logpyi_dmu, int_logpyi_dvar, int_logpyi_dtheta = hgp.variational_expectations(Yi, mi, vi)"
   ]
  },
  {
   "cell_type": "code",
   "execution_count": 25,
   "metadata": {
    "collapsed": false
   },
   "outputs": [],
   "source": [
    "#The function we wish to sample\n",
    "def log_func_mc(z, y):\n",
    "    #z is a sample from q(f,g)\n",
    "    D = y.shape[1]\n",
    "    fv, gv = z[:, :D], z[:, D:]\n",
    "    return pdf_to_use(fv, gv, y)"
   ]
  },
  {
   "cell_type": "code",
   "execution_count": 26,
   "metadata": {
    "collapsed": false
   },
   "outputs": [],
   "source": [
    "# Reparameterized sampling\n",
    "def variational_expectations_sampling(Y, mu, var, num_samples=20000):\n",
    "    samples = get_unit_samples(mu, var, num_samples=num_samples)\n",
    "    # Need to add dimension to Y to broadcast it across samples\n",
    "    int_log_py_samp = np.mean(log_func_mc(samples, Y[:, None]), -1)  \n",
    "    return int_log_py_samp"
   ]
  },
  {
   "cell_type": "code",
   "execution_count": 27,
   "metadata": {
    "collapsed": false
   },
   "outputs": [],
   "source": [
    "# Standard high variance sampling\n",
    "def standard_sampling(Y, mu, var, num_samples=20000):\n",
    "    f_samples = np.random.multivariate_normal(mean=mu[:,0], cov=np.diagflat(var[:,0]), size=num_samples)[None, :]\n",
    "    g_samples = np.random.multivariate_normal(mean=mu[:,1], cov=np.diagflat(var[:,1]), size=num_samples)[None, :]\n",
    "    samples = np.vstack((f_samples, g_samples))\n",
    "    samples = np.swapaxes(samples, 0, 2)\n",
    "    samples = np.swapaxes(samples, 1, 2)\n",
    "    int_log_py_samp = np.mean(log_func_mc(samples, Y[:, None]), -1)  \n",
    "    return int_log_py_samp"
   ]
  },
  {
   "cell_type": "code",
   "execution_count": 28,
   "metadata": {
    "collapsed": false
   },
   "outputs": [
    {
     "name": "stdout",
     "output_type": "stream",
     "text": [
      "Chosen Y values: \n",
      "[[ 0.54509553]\n",
      " [ 0.08584936]\n",
      " [ 0.05467862]\n",
      " [ 0.01679453]\n",
      " [ 0.2721031 ]]\n"
     ]
    }
   ],
   "source": [
    "# We care about how many function evaluations we require to obtain certain quality of approximations, \n",
    "# here we choose how many samples we are allowed to use\n",
    "samples = np.array([2, 4, 8, 16, 32, 64, 128, 256])\n",
    "repeats = 1000\n",
    "num_datas = 5\n",
    "rand_inds = np.random.randint(0, Y.shape[0], num_datas)\n",
    "print \"Chosen Y values: \"\n",
    "print Y[rand_inds]"
   ]
  },
  {
   "cell_type": "code",
   "execution_count": 29,
   "metadata": {
    "collapsed": false
   },
   "outputs": [
    {
     "name": "stdout",
     "output_type": "stream",
     "text": [
      "repeats:  0\n",
      "Sample  2\n",
      "Sample  4\n",
      "Sample  8\n",
      "Sample  16\n",
      "Sample  32\n",
      "Sample  64\n",
      "Sample  128\n",
      "Sample  256\n",
      "repeats:  100\n",
      "repeats:  200\n",
      "repeats:  300\n",
      "repeats:  400\n",
      "repeats:  500\n",
      "repeats:  600\n",
      "repeats:  700\n",
      "repeats:  800\n",
      "repeats:  900\n"
     ]
    }
   ],
   "source": [
    "samples_answer_mc_reparam = np.zeros((repeats, samples.shape[0], num_datas))\n",
    "if dist == 'stut':\n",
    "    #Do some specific indicies for the mode and tails aswell as random ones \n",
    "    samples_answer_mc_mode = np.zeros((repeats, samples.shape[0], 1))\n",
    "    samples_answer_mc_tail = np.zeros((repeats, samples.shape[0], 1))\n",
    "    samples_answer_mc_far_tail = np.zeros((repeats, samples.shape[0], 1))\n",
    "    \n",
    "# Repeat the MC samples several times to get an idea of how much variance we have in them\n",
    "for n in range(repeats):\n",
    "    if n % 100 == 0:\n",
    "        print \"repeats: \", n\n",
    "    for s, num_s in enumerate(samples):\n",
    "        if n == 0:\n",
    "            print \"Sample \", num_s\n",
    "        num_s = num_s**2\n",
    "        for i, ind in enumerate(rand_inds):\n",
    "            #print \"{} datapoint {}\".format(i, ind)\n",
    "            samples_answer_mc_reparam[n, s, i] = variational_expectations_sampling(Y[ind:ind+1,:], mu[ind:ind+1,:], var[ind:ind+1,:], num_samples=num_s)\n",
    "        if dist == 'stut':\n",
    "            samples_answer_mc_mode[n, s, 0] = variational_expectations_sampling(Yi_mode, mu[mode_ind:mode_ind+1,:], var[mode_ind:mode_ind+1,:], num_samples=num_s)\n",
    "            samples_answer_mc_tail[n, s, 0] = variational_expectations_sampling(Yi_tail, mu[mode_ind:mode_ind+1,:], var[mode_ind:mode_ind+1,:], num_samples=num_s)\n",
    "            samples_answer_mc_far_tail[n, s, 0] = variational_expectations_sampling(Yi_far_tail, mu[mode_ind:mode_ind+1,:], var[mode_ind:mode_ind+1,:], num_samples=num_s)"
   ]
  },
  {
   "cell_type": "code",
   "execution_count": 30,
   "metadata": {
    "collapsed": false
   },
   "outputs": [],
   "source": [
    "#No need to do this, it is the same, it just give shigher variance estimates\n",
    "#samples_answer_mc = np.zeros((repeats, samples.shape[0], num_datas))\n",
    "#for i, ind in enumerate(rand_inds):\n",
    "#    print ind\n",
    "#    for s, num_s in enumerate(samples):\n",
    "#        print \"Sample \", num_s\n",
    "#        num_s = num_s**2\n",
    "#        for n in range(repeats):\n",
    "#            samples_answer_mc[n, s, i] = standard_sampling(Y[ind:ind+1,:], mu[ind:ind+1,:], var[ind:ind+1,:], num_samples=num_s)"
   ]
  },
  {
   "cell_type": "markdown",
   "metadata": {},
   "source": [
    "Now do the same with quadrature"
   ]
  },
  {
   "cell_type": "code",
   "execution_count": 31,
   "metadata": {
    "collapsed": false
   },
   "outputs": [],
   "source": [
    "from chained_gp.multi_likelihood import MultiLikelihood\n",
    "from GPy.likelihoods.link_functions import Identity\n",
    "m = MultiLikelihood(Identity(), 'multi')\n",
    "samples_answer_quad = np.zeros((1, samples.shape[0], num_datas))*np.nan\n",
    "\n",
    "if dist == 'stut':\n",
    "    #Do some specific indicies for the mode and tails aswell as random ones \n",
    "    samples_answer_quad_mode = np.zeros((1, samples.shape[0], 1))\n",
    "    samples_answer_quad_tail = np.zeros((1, samples.shape[0], 1))\n",
    "    samples_answer_quad_far_tail = np.zeros((1, samples.shape[0], 1))\n",
    "\n",
    "for s, num_s in enumerate(samples):\n",
    "    #print \"s: \", s\n",
    "    gh = np.polynomial.hermite.hermgauss(num_s)\n",
    "    for i, ind in enumerate(rand_inds):\n",
    "        #print \"i: \", i\n",
    "        try:\n",
    "            samples_answer_quad[0, s, i] = m.quad2d([pdf_to_use], Y[ind:ind+1,:], mu[ind:ind+1,0:1], var[ind:ind+1,0:1], mu[ind:ind+1,1:2], var[ind:ind+1,1:2], gh_points=gh)[0]\n",
    "        except:\n",
    "            print \"Failed, naning\"\n",
    "            samples_answer_quad[0, s, i] = np.nan\n",
    "    if dist == 'stut':\n",
    "        try:\n",
    "            samples_answer_quad_mode[0, s, 0] = m.quad2d([pdf_to_use], Yi_mode, mu[mode_ind:mode_ind+1,0:1], var[mode_ind:mode_ind+1,0:1], mu[mode_ind:mode_ind+1,1:2], var[mode_ind:mode_ind+1,1:2], gh_points=gh)[0]\n",
    "        except:\n",
    "            print \"Failed, naning\"\n",
    "            samples_answer_quad_mode[0, s, 0] = np.nan\n",
    "        try:\n",
    "            samples_answer_quad_tail[0, s, 0] = m.quad2d([pdf_to_use], Yi_tail, mu[mode_ind:mode_ind+1,0:1], var[mode_ind:mode_ind+1,0:1], mu[mode_ind:mode_ind+1,1:2], var[mode_ind:mode_ind+1,1:2], gh_points=gh)[0]\n",
    "        except:\n",
    "            print \"Failed, naning\"\n",
    "            samples_answer_quad_tail[0, s, 0] = np.nan\n",
    "        try:\n",
    "            samples_answer_quad_far_tail[0, s, 0] = m.quad2d([pdf_to_use], Yi_far_tail, mu[mode_ind:mode_ind+1,0:1], var[mode_ind:mode_ind+1,0:1], mu[mode_ind:mode_ind+1,1:2], var[mode_ind:mode_ind+1,1:2], gh_points=gh)[0]\n",
    "        except:\n",
    "            print \"Failed, naning\"\n",
    "            samples_answer_quad_far_tail[0, s, 0] = np.nan"
   ]
  },
  {
   "cell_type": "code",
   "execution_count": 32,
   "metadata": {
    "collapsed": false
   },
   "outputs": [
    {
     "name": "stdout",
     "output_type": "stream",
     "text": [
      "[-2.20337111 -1.8194525  -1.77252084 -1.99510456 -1.93909849]\n",
      "(5,)\n",
      "(1000, 8, 5)\n"
     ]
    }
   ],
   "source": [
    "# Use MC with many samples as the ground truth to compare with, as we dont have the analytic solution, i.e. the last column\n",
    "ground_truth = np.mean(samples_answer_mc_reparam[:, -1, :], 0)\n",
    "if dist == 'stut':\n",
    "    ground_truth_mode = np.mean(samples_answer_mc_mode[:, -1, :], 0)\n",
    "    ground_truth_tail = np.mean(samples_answer_mc_tail[:, -1, :], 0)\n",
    "    ground_truth_far_tail = np.mean(samples_answer_mc_far_tail[:, -1, :], 0)\n",
    "print ground_truth\n",
    "print ground_truth.shape\n",
    "print samples_answer_mc_reparam.shape"
   ]
  },
  {
   "cell_type": "code",
   "execution_count": 33,
   "metadata": {
    "collapsed": false
   },
   "outputs": [
    {
     "data": {
      "text/plain": [
       "array([-2.05666992])"
      ]
     },
     "execution_count": 33,
     "metadata": {},
     "output_type": "execute_result"
    }
   ],
   "source": [
    "ground_truth_mode"
   ]
  },
  {
   "cell_type": "code",
   "execution_count": 34,
   "metadata": {
    "collapsed": false
   },
   "outputs": [
    {
     "data": {
      "text/plain": [
       "array([[[-2.45580566],\n",
       "        [-2.10377702],\n",
       "        [-2.02487053],\n",
       "        [-2.04026881],\n",
       "        [-2.05610329],\n",
       "        [-2.05743487],\n",
       "        [-2.05684747],\n",
       "        [-2.05691659]]])"
      ]
     },
     "execution_count": 34,
     "metadata": {},
     "output_type": "execute_result"
    }
   ],
   "source": [
    "samples_answer_quad_mode"
   ]
  },
  {
   "cell_type": "code",
   "execution_count": 35,
   "metadata": {
    "collapsed": false
   },
   "outputs": [
    {
     "data": {
      "text/plain": [
       "array([[[-2.71027919],\n",
       "        [-2.98435213],\n",
       "        [-3.08343398],\n",
       "        [-3.04109395],\n",
       "        [-3.05101508],\n",
       "        [-3.04968448],\n",
       "        [-3.04941161],\n",
       "        [-3.04941037]]])"
      ]
     },
     "execution_count": 35,
     "metadata": {},
     "output_type": "execute_result"
    }
   ],
   "source": [
    "samples_answer_quad_tail"
   ]
  },
  {
   "cell_type": "code",
   "execution_count": 36,
   "metadata": {
    "collapsed": false
   },
   "outputs": [
    {
     "data": {
      "text/plain": [
       "array([[[-6.03986406],\n",
       "        [-6.03563811],\n",
       "        [-6.03945807],\n",
       "        [-6.03964902],\n",
       "        [-6.03995759],\n",
       "        [-6.03990683],\n",
       "        [-6.03990831],\n",
       "        [-6.03990926]]])"
      ]
     },
     "execution_count": 36,
     "metadata": {},
     "output_type": "execute_result"
    }
   ],
   "source": [
    "samples_answer_quad_far_tail"
   ]
  },
  {
   "cell_type": "code",
   "execution_count": 37,
   "metadata": {
    "collapsed": false
   },
   "outputs": [],
   "source": [
    "#error_per_repeat_mc = samples_answer_mc - ground_truth\n",
    "error_per_repeat_mc_reparam = ground_truth - samples_answer_mc_reparam\n",
    "error_per_repeat_quad = ground_truth - samples_answer_quad\n",
    "abs_err_reparam = np.abs(error_per_repeat_mc_reparam)\n",
    "abs_err_quad = np.abs(error_per_repeat_quad)\n",
    "\n",
    "if dist == 'stut':\n",
    "    error_per_repeat_mc_mode = ground_truth_mode - samples_answer_mc_mode\n",
    "    error_per_repeat_quad_mode = ground_truth_mode - samples_answer_quad_mode\n",
    "    abs_err_mc_mode = np.abs(error_per_repeat_mc_mode)\n",
    "    abs_err_quad_mode = np.abs(error_per_repeat_quad_mode)\n",
    "    \n",
    "    error_per_repeat_mc_tail = ground_truth_tail - samples_answer_mc_tail\n",
    "    error_per_repeat_quad_tail = ground_truth_tail - samples_answer_quad_tail\n",
    "    abs_err_mc_tail = np.abs(error_per_repeat_mc_tail)\n",
    "    abs_err_quad_tail = np.abs(error_per_repeat_quad_tail)\n",
    "    \n",
    "    error_per_repeat_mc_far_tail = ground_truth_far_tail - samples_answer_mc_far_tail\n",
    "    error_per_repeat_quad_far_tail = ground_truth_far_tail - samples_answer_quad_far_tail\n",
    "    abs_err_mc_far_tail = np.abs(error_per_repeat_mc_far_tail)\n",
    "    abs_err_quad_far_tail = np.abs(error_per_repeat_quad_far_tail)"
   ]
  },
  {
   "cell_type": "code",
   "execution_count": 38,
   "metadata": {
    "collapsed": false
   },
   "outputs": [
    {
     "data": {
      "text/plain": [
       "array([-2.20337111, -1.8194525 , -1.77252084, -1.99510456, -1.93909849])"
      ]
     },
     "execution_count": 38,
     "metadata": {},
     "output_type": "execute_result"
    }
   ],
   "source": [
    "ground_truth"
   ]
  },
  {
   "cell_type": "markdown",
   "metadata": {},
   "source": [
    "Lets plot the absolute errors for a random point, the mode, and the variance."
   ]
  },
  {
   "cell_type": "code",
   "execution_count": 39,
   "metadata": {
    "collapsed": false
   },
   "outputs": [
    {
     "name": "stdout",
     "output_type": "stream",
     "text": [
      "[ 2.52525253], [ 0.05467862]\n"
     ]
    }
   ],
   "source": [
    "d = 2\n",
    "print \"{}, {}\".format(X[rand_inds[d]], Y[rand_inds[d]])"
   ]
  },
  {
   "cell_type": "code",
   "execution_count": 45,
   "metadata": {
    "collapsed": false
   },
   "outputs": [
    {
     "data": {
      "image/png": "[encoded data removed]",
      "text/plain": [
       "<matplotlib.figure.Figure at 0x11b2080d0>"
      ]
     },
     "metadata": {},
     "output_type": "display_data"
    }
   ],
   "source": [
    "import seaborn\n",
    "lw = 1.0\n",
    "\n",
    "fig, compare_error = plt.subplots(1,1)\n",
    "seaborn.boxplot(data=error_per_repeat_mc_reparam[:, :, d], ax=compare_error, linewidth=lw)\n",
    "compare_error.set_xticklabels(samples**2)\n",
    "compare_error.set_xlabel('Function evaluations')\n",
    "compare_error.set_ylabel('Error from MC ground truth')\n",
    "compare_error.set_title('Errors from MC integration vs quadrature ')\n",
    "\n",
    "medianprops = dict(linestyle='-.', linewidth=2.5, color='firebrick')\n",
    "for i, v in enumerate((np.arange(0,samples.shape[0]))):\n",
    "    #print v\n",
    "    line = np.linspace(v - 0.2, v + 0.2, 2)\n",
    "    val = np.ones_like(line)*error_per_repeat_quad[0, i, d]#[0, i]\n",
    "    compare_error.plot(line, val, '-', color='firebrick', linewidth=lw)\n",
    "\n",
    "compare_error.set_ylim(-2, 2)\n",
    "\n",
    "#plt.rcParams['text.latex.unicode']=True\n",
    "plt.rcParams['text.usetex']=False\n",
    "plt.rcParams['pgf.texsystem'] = 'pdflatex'\n",
    "#fig.savefig('corrupt_motorcycleeps.eps', dpi=500)\n",
    "\n",
    "#from matplotlib2tikz import save as tikz_save\n",
    "#tikz_save('MCvsQuad.tikz', figure=fig)"
   ]
  },
  {
   "cell_type": "markdown",
   "metadata": {},
   "source": [
    "Ignore the last quadrature point as it is null"
   ]
  },
  {
   "cell_type": "code",
   "execution_count": 46,
   "metadata": {
    "collapsed": false
   },
   "outputs": [
    {
     "data": {
      "image/png": "[encoded data removed]",
      "text/plain": [
       "<matplotlib.figure.Figure at 0x11b682950>"
      ]
     },
     "metadata": {},
     "output_type": "display_data"
    }
   ],
   "source": [
    "import seaborn\n",
    "lw = 1.0\n",
    "d = 2\n",
    "fig, compare_abs_error = plt.subplots(1,1)\n",
    "seaborn.boxplot(data=abs_err_reparam[:, :-1, d], ax=compare_abs_error, linewidth=lw)\n",
    "compare_abs_error.set_xticklabels(samples**2)\n",
    "compare_abs_error.set_xlabel('Function evaluations')\n",
    "compare_abs_error.set_ylabel('Absolute error from MC ground truth')\n",
    "compare_abs_error.set_title('Absolute errors from MC integration vs quadrature ')\n",
    "\n",
    "compare_abs_error.plot(np.arange(0, samples.shape[0]-1)+1, abs_err_quad[0, :-1, d], 'r*', markersize=15, markeredgewidth=1)\n",
    "compare_abs_error.semilogy()\n",
    "compare_abs_error.set_ylim(0, 4)\n",
    "\n",
    "#plt.rcParams['text.latex.unicode']=True\n",
    "plt.rcParams['text.usetex']=False\n",
    "plt.rcParams['pgf.texsystem'] = 'pdflatex'\n",
    "#fig.savefig('corrupt_motorcycleeps.eps', dpi=500)\n",
    "\n",
    "#from matplotlib2tikz import save as tikz_save\n",
    "#tikz_save('MCvsQuad_abslog_stut.tikz', figure=fig)"
   ]
  },
  {
   "cell_type": "markdown",
   "metadata": {},
   "source": [
    "Mode of student-t"
   ]
  },
  {
   "cell_type": "code",
   "execution_count": 47,
   "metadata": {
    "collapsed": false
   },
   "outputs": [
    {
     "data": {
      "image/png": "[encoded data removed]",
      "text/plain": [
       "<matplotlib.figure.Figure at 0x10d17fb10>"
      ]
     },
     "metadata": {},
     "output_type": "display_data"
    }
   ],
   "source": [
    "if dist == 'stut':\n",
    "    import seaborn\n",
    "    lw = 1.0\n",
    "    fig_mode, compare_abs_error = plt.subplots(1,1)\n",
    "    seaborn.boxplot(data=abs_err_mc_mode[:, :-1, 0], ax=compare_abs_error, linewidth=lw)\n",
    "    compare_abs_error.set_xticklabels(samples**2)\n",
    "    compare_abs_error.set_xlabel('Function evaluations')\n",
    "    compare_abs_error.set_ylabel('Absolute error from MC ground truth')\n",
    "    compare_abs_error.set_title(r'Absolute errors from MC integration vs quadrature, with $y_{i}$ at the mode')\n",
    "\n",
    "    compare_abs_error.plot(np.arange(0, samples.shape[0]-1)+1, abs_err_quad_mode[0, :-1, 0], 'r*')\n",
    "    compare_abs_error.semilogy()\n",
    "    #compare_abs_error.set_ylim(0, 4)\n",
    "\n",
    "    #plt.rcParams['text.latex.unicode']=True\n",
    "    plt.rcParams['text.usetex']=False\n",
    "    plt.rcParams['pgf.texsystem'] = 'pdflatex'\n",
    "    #fig.savefig('corrupt_motorcycleeps.eps', dpi=500)\n",
    "\n",
    "    #from matplotlib2tikz import save as tikz_save\n",
    "    #tikz_save('MCvsQuad_abslog_stut_mode.tikz', figure=fig_mode)"
   ]
  },
  {
   "cell_type": "markdown",
   "metadata": {},
   "source": [
    "Shoulder of student-t"
   ]
  },
  {
   "cell_type": "code",
   "execution_count": 50,
   "metadata": {
    "collapsed": false
   },
   "outputs": [
    {
     "data": {
      "image/png": "[encoded data removed]",
      "text/plain": [
       "<matplotlib.figure.Figure at 0x11b670dd0>"
      ]
     },
     "metadata": {},
     "output_type": "display_data"
    }
   ],
   "source": [
    "if dist == 'stut':\n",
    "    import seaborn\n",
    "    lw = 1.0\n",
    "    fig_tail, compare_abs_error = plt.subplots(1,1)\n",
    "    seaborn.boxplot(data=abs_err_mc_tail[:, :-1, 0], ax=compare_abs_error, linewidth=lw)\n",
    "    compare_abs_error.set_xticklabels(samples**2)\n",
    "    compare_abs_error.set_xlabel('Function evaluations')\n",
    "    compare_abs_error.set_ylabel('Absolute error from MC ground truth')\n",
    "    compare_abs_error.set_title('Absolute errors from MC integration vs quadrature, with $y_{i}$ in the shoulder')\n",
    "\n",
    "    compare_abs_error.plot(np.arange(0, samples.shape[0]-1)+1, abs_err_quad_tail[0, :-1, 0], 'r*')\n",
    "    compare_abs_error.semilogy()\n",
    "    #compare_abs_error.set_ylim(0, 4)\n",
    "\n",
    "    #plt.rcParams['text.latex.unicode']=True\n",
    "    plt.rcParams['text.usetex']=False\n",
    "    plt.rcParams['pgf.texsystem'] = 'pdflatex'\n",
    "    #fig.savefig('corrupt_motorcycleeps.eps', dpi=500)\n",
    "\n",
    "    #from matplotlib2tikz import save as tikz_save\n",
    "    #tikz_save('MCvsQuad_abslog_stut_shoulder.tikz', figure=fig)"
   ]
  },
  {
   "cell_type": "markdown",
   "metadata": {},
   "source": [
    "far tail student-t"
   ]
  },
  {
   "cell_type": "code",
   "execution_count": 52,
   "metadata": {
    "collapsed": false
   },
   "outputs": [
    {
     "data": {
      "image/png": "[encoded data removed]",
      "text/plain": [
       "<matplotlib.figure.Figure at 0x11af37250>"
      ]
     },
     "metadata": {},
     "output_type": "display_data"
    }
   ],
   "source": [
    "if dist == 'stut':\n",
    "    import seaborn\n",
    "    lw = 1.0\n",
    "    fig_tail, compare_abs_error = plt.subplots(1,1)\n",
    "    seaborn.boxplot(data=abs_err_mc_far_tail[:, :-1, 0], ax=compare_abs_error, linewidth=lw)\n",
    "    compare_abs_error.set_xticklabels(samples**2)\n",
    "    compare_abs_error.set_xlabel('Function evaluations')\n",
    "    compare_abs_error.set_ylabel('Absolute error from MC ground truth')\n",
    "    compare_abs_error.set_title('Absolute errors from MC integration vs quadrature, $y_{i}$ in the tail')\n",
    "\n",
    "    compare_abs_error.plot(np.arange(0, samples.shape[0]-1)+1, abs_err_quad_far_tail[0, :-1, 0], 'r*')\n",
    "    compare_abs_error.semilogy()\n",
    "    #compare_abs_error.set_ylim(0, 4)\n",
    "\n",
    "    #plt.rcParams['text.latex.unicode']=True\n",
    "    plt.rcParams['text.usetex']=False\n",
    "    plt.rcParams['pgf.texsystem'] = 'pdflatex'\n",
    "    #fig.savefig('corrupt_motorcycleeps.eps', dpi=500)\n",
    "\n",
    "    #from matplotlib2tikz import save as tikz_save\n",
    "    #tikz_save('MCvsQuad_abslog_stut_far_tail.tikz', figure=fig)"
   ]
  },
  {
   "cell_type": "markdown",
   "metadata": {},
   "source": [
    "## Investiation of the integration being made - Beta only"
   ]
  },
  {
   "cell_type": "code",
   "execution_count": 83,
   "metadata": {
    "collapsed": false
   },
   "outputs": [],
   "source": [
    "ind = rand_inds[d]\n",
    "Yi = Y[ind:ind+1,0:1]\n",
    "qf_meani = np.sum(mu[ind:ind+1,0:1])\n",
    "qg_meani = np.sum(mu[ind:ind+1,1:2])\n",
    "qf_vari = np.sum(var[ind:ind+1,0:1]) + 5.0\n",
    "qg_vari = np.sum(var[ind:ind+1,1:2])"
   ]
  },
  {
   "cell_type": "code",
   "execution_count": 84,
   "metadata": {
    "collapsed": false
   },
   "outputs": [],
   "source": [
    "x_range = np.linspace(-5,5,50)[:, None]\n",
    "py_f = sp.stats.norm.pdf(x_range, loc=qf_meani, scale=np.sqrt(qf_vari))\n",
    "py_g = sp.stats.norm.pdf(x_range, loc=qg_meani, scale=np.sqrt(qg_vari))"
   ]
  },
  {
   "cell_type": "code",
   "execution_count": 85,
   "metadata": {
    "collapsed": false
   },
   "outputs": [
    {
     "data": {
      "text/plain": [
       "[<matplotlib.lines.Line2D at 0x11b2e6050>]"
      ]
     },
     "execution_count": 85,
     "metadata": {},
     "output_type": "execute_result"
    },
    {
     "data": {
      "image/png": "[encoded data removed]",
      "text/plain": [
       "<matplotlib.figure.Figure at 0x11b2fe090>"
      ]
     },
     "metadata": {},
     "output_type": "display_data"
    }
   ],
   "source": [
    "#Convolving a 2d Gaussian with these means and variances with a Beta\n",
    "plt.plot(x_range, py_f)\n",
    "plt.plot(x_range, py_g)"
   ]
  },
  {
   "cell_type": "code",
   "execution_count": 86,
   "metadata": {
    "collapsed": false
   },
   "outputs": [],
   "source": [
    "qf_range = np.linspace(np.sum(qf_meani - 3*np.sqrt(qf_vari)), np.sum(qf_meani + 3*np.sqrt(qf_vari)), 30)\n",
    "qg_range = np.linspace(np.sum(qg_meani - 3*np.sqrt(qg_vari)), np.sum(qg_meani + 3*np.sqrt(qg_vari)), 30)"
   ]
  },
  {
   "cell_type": "code",
   "execution_count": 87,
   "metadata": {
    "collapsed": false
   },
   "outputs": [],
   "source": [
    "XX, YY = np.meshgrid(qf_range, qg_range)"
   ]
  },
  {
   "cell_type": "code",
   "execution_count": 88,
   "metadata": {
    "collapsed": false
   },
   "outputs": [
    {
     "data": {
      "text/plain": [
       "7.2813115130728372"
      ]
     },
     "execution_count": 88,
     "metadata": {},
     "output_type": "execute_result"
    }
   ],
   "source": [
    "qf_meani + 3*np.sqrt(qf_vari)"
   ]
  },
  {
   "cell_type": "code",
   "execution_count": 89,
   "metadata": {
    "collapsed": false
   },
   "outputs": [
    {
     "data": {
      "text/plain": [
       "-7.3503089551038334"
      ]
     },
     "execution_count": 89,
     "metadata": {},
     "output_type": "execute_result"
    }
   ],
   "source": [
    "qf_meani - 3*np.sqrt(qf_vari)"
   ]
  },
  {
   "cell_type": "code",
   "execution_count": 90,
   "metadata": {
    "collapsed": false
   },
   "outputs": [
    {
     "ename": "NotImplementedError",
     "evalue": "",
     "output_type": "error",
     "traceback": [
      "\u001b[0;31m---------------------------------------------------------------------------\u001b[0m",
      "\u001b[0;31mNotImplementedError\u001b[0m                       Traceback (most recent call last)",
      "\u001b[0;32m<ipython-input-90-12d1ae28ff67>\u001b[0m in \u001b[0;36m<module>\u001b[0;34m()\u001b[0m\n\u001b[1;32m      8\u001b[0m     \u001b[0max\u001b[0m\u001b[0;34m.\u001b[0m\u001b[0mplot_surface\u001b[0m\u001b[0;34m(\u001b[0m\u001b[0mXX\u001b[0m\u001b[0;34m,\u001b[0m \u001b[0mYY\u001b[0m\u001b[0;34m,\u001b[0m \u001b[0mZZ\u001b[0m\u001b[0;34m,\u001b[0m \u001b[0mcstride\u001b[0m\u001b[0;34m=\u001b[0m\u001b[0;36m1\u001b[0m\u001b[0;34m,\u001b[0m \u001b[0mrstride\u001b[0m\u001b[0;34m=\u001b[0m\u001b[0;36m1\u001b[0m\u001b[0;34m)\u001b[0m\u001b[0;34m\u001b[0m\u001b[0m\n\u001b[1;32m      9\u001b[0m \u001b[0;32melse\u001b[0m\u001b[0;34m:\u001b[0m\u001b[0;34m\u001b[0m\u001b[0m\n\u001b[0;32m---> 10\u001b[0;31m     \u001b[0;32mraise\u001b[0m \u001b[0mNotImplementedError\u001b[0m\u001b[0;34m\u001b[0m\u001b[0m\n\u001b[0m\u001b[1;32m     11\u001b[0m \u001b[0;31m#pg = np.array([sp.stats.norm.pdf(Yi, loc=qf_meani, scale=np.sqrt(np.exp(qf_vari))) for mi, vi in zip(XX.reshape(-1), YY.reshape(-1))])\u001b[0m\u001b[0;34m\u001b[0m\u001b[0;34m\u001b[0m\u001b[0m\n",
      "\u001b[0;31mNotImplementedError\u001b[0m: "
     ]
    }
   ],
   "source": [
    "XX_shape = XX.shape\n",
    "YY_shape = YY.shape\n",
    "if dist == 'beta':\n",
    "    py_f = np.array([sp.stats.beta.pdf(Yi, np.exp(mi), np.exp(vi)) for mi, vi in zip(XX.reshape(-1), YY.reshape(-1))])\n",
    "    ZZ = py_f.reshape(XX.shape)\n",
    "    fig = plt.figure()\n",
    "    ax = fig.add_subplot(111, projection='3d')\n",
    "    ax.plot_surface(XX, YY, ZZ, cstride=1, rstride=1)\n",
    "else:\n",
    "    raise NotImplementedError    \n",
    "#pg = np.array([sp.stats.norm.pdf(Yi, loc=qf_meani, scale=np.sqrt(np.exp(qf_vari))) for mi, vi in zip(XX.reshape(-1), YY.reshape(-1))])"
   ]
  },
  {
   "cell_type": "code",
   "execution_count": 91,
   "metadata": {
    "collapsed": false
   },
   "outputs": [],
   "source": [
    "from scipy.stats import multivariate_normal\n",
    "#multivariate_normal([np.sum(qf_meani), np.sum(qg_meani)], [[2.0, 0.3], [0.3, 0.5]])\n",
    "rv = multivariate_normal([np.sum(qf_meani), np.sum(qg_meani)], [[np.sum(qf_vari), 0],[0, np.sum(qg_vari)]])"
   ]
  },
  {
   "cell_type": "code",
   "execution_count": 92,
   "metadata": {
    "collapsed": false
   },
   "outputs": [],
   "source": [
    "#Evaluate the pdf of the independent q(f) and q(g)\n",
    "pos = np.empty(XX.shape + (2,))\n",
    "pos[:, :, 0] = XX; pos[:, :, 1] = YY\n",
    "ZZnorm = rv.pdf(pos)"
   ]
  },
  {
   "cell_type": "code",
   "execution_count": 93,
   "metadata": {
    "collapsed": false
   },
   "outputs": [
    {
     "ename": "NameError",
     "evalue": "name 'ZZ' is not defined",
     "output_type": "error",
     "traceback": [
      "\u001b[0;31m---------------------------------------------------------------------------\u001b[0m",
      "\u001b[0;31mNameError\u001b[0m                                 Traceback (most recent call last)",
      "\u001b[0;32m<ipython-input-93-9c6e748abddb>\u001b[0m in \u001b[0;36m<module>\u001b[0;34m()\u001b[0m\n\u001b[1;32m      1\u001b[0m \u001b[0mfig2\u001b[0m\u001b[0;34m,\u001b[0m \u001b[0max2\u001b[0m \u001b[0;34m=\u001b[0m \u001b[0mplt\u001b[0m\u001b[0;34m.\u001b[0m\u001b[0msubplots\u001b[0m\u001b[0;34m(\u001b[0m\u001b[0;36m1\u001b[0m\u001b[0;34m,\u001b[0m\u001b[0;36m1\u001b[0m\u001b[0;34m)\u001b[0m\u001b[0;34m\u001b[0m\u001b[0m\n\u001b[1;32m      2\u001b[0m \u001b[0mextent\u001b[0m \u001b[0;34m=\u001b[0m \u001b[0;34m[\u001b[0m\u001b[0mqf_range\u001b[0m\u001b[0;34m.\u001b[0m\u001b[0mmin\u001b[0m\u001b[0;34m(\u001b[0m\u001b[0;34m)\u001b[0m\u001b[0;34m,\u001b[0m \u001b[0mqf_range\u001b[0m\u001b[0;34m.\u001b[0m\u001b[0mmax\u001b[0m\u001b[0;34m(\u001b[0m\u001b[0;34m)\u001b[0m\u001b[0;34m,\u001b[0m \u001b[0mqg_range\u001b[0m\u001b[0;34m.\u001b[0m\u001b[0mmin\u001b[0m\u001b[0;34m(\u001b[0m\u001b[0;34m)\u001b[0m\u001b[0;34m,\u001b[0m \u001b[0mqg_range\u001b[0m\u001b[0;34m.\u001b[0m\u001b[0mmax\u001b[0m\u001b[0;34m(\u001b[0m\u001b[0;34m)\u001b[0m\u001b[0;34m]\u001b[0m\u001b[0;34m\u001b[0m\u001b[0m\n\u001b[0;32m----> 3\u001b[0;31m \u001b[0mim\u001b[0m \u001b[0;34m=\u001b[0m \u001b[0max2\u001b[0m\u001b[0;34m.\u001b[0m\u001b[0mimshow\u001b[0m\u001b[0;34m(\u001b[0m\u001b[0mZZ\u001b[0m\u001b[0;34m,\u001b[0m \u001b[0malpha\u001b[0m\u001b[0;34m=\u001b[0m\u001b[0;36m0.5\u001b[0m\u001b[0;34m,\u001b[0m \u001b[0mextent\u001b[0m\u001b[0;34m=\u001b[0m\u001b[0mextent\u001b[0m\u001b[0;34m)\u001b[0m\u001b[0;34m\u001b[0m\u001b[0m\n\u001b[0m\u001b[1;32m      4\u001b[0m \u001b[0mextent\u001b[0m \u001b[0;34m=\u001b[0m \u001b[0;34m[\u001b[0m\u001b[0mXX\u001b[0m\u001b[0;34m.\u001b[0m\u001b[0mmin\u001b[0m\u001b[0;34m(\u001b[0m\u001b[0;34m)\u001b[0m\u001b[0;34m,\u001b[0m \u001b[0mXX\u001b[0m\u001b[0;34m.\u001b[0m\u001b[0mmax\u001b[0m\u001b[0;34m(\u001b[0m\u001b[0;34m)\u001b[0m\u001b[0;34m,\u001b[0m \u001b[0mYY\u001b[0m\u001b[0;34m.\u001b[0m\u001b[0mmin\u001b[0m\u001b[0;34m(\u001b[0m\u001b[0;34m)\u001b[0m\u001b[0;34m,\u001b[0m \u001b[0mYY\u001b[0m\u001b[0;34m.\u001b[0m\u001b[0mmax\u001b[0m\u001b[0;34m(\u001b[0m\u001b[0;34m)\u001b[0m\u001b[0;34m]\u001b[0m\u001b[0;34m\u001b[0m\u001b[0m\n\u001b[1;32m      5\u001b[0m \u001b[0max2\u001b[0m\u001b[0;34m.\u001b[0m\u001b[0mimshow\u001b[0m\u001b[0;34m(\u001b[0m\u001b[0mZZnorm\u001b[0m\u001b[0;34m,\u001b[0m \u001b[0malpha\u001b[0m\u001b[0;34m=\u001b[0m\u001b[0;36m0.5\u001b[0m\u001b[0;34m,\u001b[0m \u001b[0mextent\u001b[0m\u001b[0;34m=\u001b[0m\u001b[0mextent\u001b[0m\u001b[0;34m)\u001b[0m\u001b[0;34m\u001b[0m\u001b[0m\n",
      "\u001b[0;31mNameError\u001b[0m: name 'ZZ' is not defined"
     ]
    },
    {
     "data": {
      "image/png": "[encoded data removed]",
      "text/plain": [
       "<matplotlib.figure.Figure at 0x11b7bf690>"
      ]
     },
     "metadata": {},
     "output_type": "display_data"
    }
   ],
   "source": [
    "fig2, ax2 = plt.subplots(1,1)\n",
    "extent = [qf_range.min(), qf_range.max(), qg_range.min(), qg_range.max()]\n",
    "im = ax2.imshow(ZZ, alpha=0.5, extent=extent)\n",
    "extent = [XX.min(), XX.max(), YY.min(), YY.max()]\n",
    "ax2.imshow(ZZnorm, alpha=0.5, extent=extent)"
   ]
  },
  {
   "cell_type": "code",
   "execution_count": null,
   "metadata": {
    "collapsed": false
   },
   "outputs": [],
   "source": [
    "gh = np.polynomial.hermite.hermgauss(np.round(np.sqrt(num_samples)))"
   ]
  },
  {
   "cell_type": "code",
   "execution_count": 95,
   "metadata": {
    "collapsed": false
   },
   "outputs": [],
   "source": [
    "q_meansi =  np.hstack([qf_meani, qg_meani])[None, :]\n",
    "q_varsi = np.hstack([qf_vari, qg_vari])[None, :]"
   ]
  },
  {
   "cell_type": "code",
   "execution_count": 96,
   "metadata": {
    "collapsed": false
   },
   "outputs": [
    {
     "data": {
      "text/plain": [
       "(1, 2, 100)"
      ]
     },
     "execution_count": 96,
     "metadata": {},
     "output_type": "execute_result"
    }
   ],
   "source": [
    "num_samples = 100\n",
    "samples = get_unit_samples(q_meansi, q_varsi, num_samples=num_samples)\n",
    "samples.shape"
   ]
  },
  {
   "cell_type": "markdown",
   "metadata": {},
   "source": [
    "Get GH points"
   ]
  },
  {
   "cell_type": "code",
   "execution_count": 73,
   "metadata": {
    "collapsed": false
   },
   "outputs": [],
   "source": [
    "gh = np.polynomial.hermite.hermgauss(np.sqrt(num_samples))"
   ]
  },
  {
   "cell_type": "code",
   "execution_count": 97,
   "metadata": {
    "collapsed": false
   },
   "outputs": [],
   "source": [
    "ghx = gh[0]*np.sqrt(2*q_varsi[0, 0]) + q_meansi[0,0]\n",
    "ghy = gh[0]*np.sqrt(2*q_varsi[0, 1]) + q_meansi[0,1]"
   ]
  },
  {
   "cell_type": "code",
   "execution_count": 98,
   "metadata": {
    "collapsed": false
   },
   "outputs": [],
   "source": [
    "ghxy = np.array(zip(ghx, ghy))"
   ]
  },
  {
   "cell_type": "code",
   "execution_count": 99,
   "metadata": {
    "collapsed": false
   },
   "outputs": [
    {
     "data": {
      "text/plain": [
       "array([[-11.88480135,  -6.3245593 ],\n",
       "       [ -8.76914569,  -5.05831185],\n",
       "       [ -6.09278419,  -3.97059989],\n",
       "       [ -3.60946473,  -2.961343  ],\n",
       "       [ -1.21706459,  -1.98903704],\n",
       "       [  1.14806715,  -1.02781335],\n",
       "       [  3.54046729,  -0.05550739],\n",
       "       [  6.02378675,   0.9537495 ],\n",
       "       [  8.70014824,   2.04146146],\n",
       "       [ 11.81580391,   3.30770891]])"
      ]
     },
     "execution_count": 99,
     "metadata": {},
     "output_type": "execute_result"
    }
   ],
   "source": [
    "ghxy"
   ]
  },
  {
   "cell_type": "code",
   "execution_count": 100,
   "metadata": {
    "collapsed": true
   },
   "outputs": [],
   "source": [
    "#ghXX, ghYY = np.meshgrid(ghx, ghy)\n",
    "ghXX = np.repeat(ghx, ghy.shape[0])\n",
    "ghYY = np.tile(ghy, ghy.shape[0])"
   ]
  },
  {
   "cell_type": "code",
   "execution_count": 101,
   "metadata": {
    "collapsed": false
   },
   "outputs": [
    {
     "ename": "NameError",
     "evalue": "name 'ZZ' is not defined",
     "output_type": "error",
     "traceback": [
      "\u001b[0;31m---------------------------------------------------------------------------\u001b[0m",
      "\u001b[0;31mNameError\u001b[0m                                 Traceback (most recent call last)",
      "\u001b[0;32m<ipython-input-101-632076b98600>\u001b[0m in \u001b[0;36m<module>\u001b[0;34m()\u001b[0m\n\u001b[1;32m      1\u001b[0m \u001b[0mfig3\u001b[0m\u001b[0;34m,\u001b[0m \u001b[0max3\u001b[0m \u001b[0;34m=\u001b[0m \u001b[0mplt\u001b[0m\u001b[0;34m.\u001b[0m\u001b[0msubplots\u001b[0m\u001b[0;34m(\u001b[0m\u001b[0;36m1\u001b[0m\u001b[0;34m,\u001b[0m\u001b[0;36m1\u001b[0m\u001b[0;34m)\u001b[0m\u001b[0;34m\u001b[0m\u001b[0m\n\u001b[1;32m      2\u001b[0m \u001b[0mextent\u001b[0m \u001b[0;34m=\u001b[0m \u001b[0;34m[\u001b[0m\u001b[0mghXX\u001b[0m\u001b[0;34m.\u001b[0m\u001b[0mmin\u001b[0m\u001b[0;34m(\u001b[0m\u001b[0;34m)\u001b[0m\u001b[0;34m,\u001b[0m \u001b[0mghXX\u001b[0m\u001b[0;34m.\u001b[0m\u001b[0mmax\u001b[0m\u001b[0;34m(\u001b[0m\u001b[0;34m)\u001b[0m\u001b[0;34m,\u001b[0m \u001b[0mghYY\u001b[0m\u001b[0;34m.\u001b[0m\u001b[0mmin\u001b[0m\u001b[0;34m(\u001b[0m\u001b[0;34m)\u001b[0m\u001b[0;34m,\u001b[0m \u001b[0mghYY\u001b[0m\u001b[0;34m.\u001b[0m\u001b[0mmax\u001b[0m\u001b[0;34m(\u001b[0m\u001b[0;34m)\u001b[0m\u001b[0;34m]\u001b[0m\u001b[0;34m\u001b[0m\u001b[0m\n\u001b[0;32m----> 3\u001b[0;31m \u001b[0mim\u001b[0m \u001b[0;34m=\u001b[0m \u001b[0max3\u001b[0m\u001b[0;34m.\u001b[0m\u001b[0mimshow\u001b[0m\u001b[0;34m(\u001b[0m\u001b[0mZZ\u001b[0m\u001b[0;34m,\u001b[0m \u001b[0malpha\u001b[0m\u001b[0;34m=\u001b[0m\u001b[0;36m1.0\u001b[0m\u001b[0;34m,\u001b[0m \u001b[0mextent\u001b[0m\u001b[0;34m=\u001b[0m\u001b[0mextent\u001b[0m\u001b[0;34m)\u001b[0m\u001b[0;34m\u001b[0m\u001b[0m\n\u001b[0m\u001b[1;32m      4\u001b[0m \u001b[0max3\u001b[0m\u001b[0;34m.\u001b[0m\u001b[0mimshow\u001b[0m\u001b[0;34m(\u001b[0m\u001b[0mZZnorm\u001b[0m\u001b[0;34m,\u001b[0m \u001b[0malpha\u001b[0m\u001b[0;34m=\u001b[0m\u001b[0;36m0.5\u001b[0m\u001b[0;34m,\u001b[0m \u001b[0mextent\u001b[0m\u001b[0;34m=\u001b[0m\u001b[0mextent\u001b[0m\u001b[0;34m)\u001b[0m\u001b[0;34m\u001b[0m\u001b[0m\n\u001b[1;32m      5\u001b[0m \u001b[0;31m#im = ax3.imshow(ZZ + ZZnorm, extent=extent)\u001b[0m\u001b[0;34m\u001b[0m\u001b[0;34m\u001b[0m\u001b[0m\n",
      "\u001b[0;31mNameError\u001b[0m: name 'ZZ' is not defined"
     ]
    },
    {
     "data": {
      "image/png": "[encoded data removed]",
      "text/plain": [
       "<matplotlib.figure.Figure at 0x11cdb8610>"
      ]
     },
     "metadata": {},
     "output_type": "display_data"
    }
   ],
   "source": [
    "fig3, ax3 = plt.subplots(1,1)\n",
    "extent = [ghXX.min(), ghXX.max(), ghYY.min(), ghYY.max()]\n",
    "im = ax3.imshow(ZZ, alpha=1.0, extent=extent)\n",
    "ax3.imshow(ZZnorm, alpha=0.5, extent=extent)\n",
    "#im = ax3.imshow(ZZ + ZZnorm, extent=extent)\n",
    "plt.plot(ghXX, ghYY, 'go')\n",
    "plt.plot(samples[0,0,:], samples[0,1,:], 'rx')\n",
    "plt.xlim(ghXX.min(), ghXX.max())\n",
    "plt.ylim(ghYY.min(), ghYY.max())\n",
    "# Although they are laid out in a grid, their weights will be stronger in the middle of the Gaussian than the outside.\n",
    "# This simply shows where the GH points will be used, with not enough points, we won't cover essential parts of the PDF"
   ]
  },
  {
   "cell_type": "markdown",
   "metadata": {},
   "source": [
    "##Beta distibution\n",
    "The previous was an unfair test as it was analytic.\n",
    "\n",
    "Maybe the speed up is much better for a operator that needs quadrature"
   ]
  },
  {
   "cell_type": "code",
   "execution_count": 102,
   "metadata": {
    "collapsed": false
   },
   "outputs": [],
   "source": [
    "from scipy.stats import beta as beta_dist\n",
    "Ybeta = [beta_dist.rvs(a=np.exp(fi), b=np.exp(gi)) for fi, gi in zip(f[:,0], g[:,0])]\n",
    "Ybeta = np.asarray(Ybeta)[:, None]"
   ]
  },
  {
   "cell_type": "code",
   "execution_count": 103,
   "metadata": {
    "collapsed": false
   },
   "outputs": [],
   "source": [
    "from chained_gp.het_beta import HetBeta\n",
    "hbeta = HetBeta()\n",
    "int_logpy_beta, int_logpy_dmu_beta, int_logpy_dvar_beta, int_logpy_dtheta_beta = hbeta.variational_expectations(Ybeta, mu, var)"
   ]
  },
  {
   "cell_type": "code",
   "execution_count": 104,
   "metadata": {
    "collapsed": false
   },
   "outputs": [],
   "source": [
    "#The function we wish to sample\n",
    "from scipy.special import beta, betaln, gammaln, gamma, polygamma, zeta\n",
    "from scipy.special import psi\n",
    "def log_beta_func(z, y, Y_metadata=None):\n",
    "    D = y.shape[1]\n",
    "    fv, gv = f[:, :D], f[:, D:]\n",
    "    ef = np.exp(fv)\n",
    "    eg = np.exp(gv)\n",
    "    lnpdf = (ef - 1)*np.log(y) + (eg - 1)*np.log(1-y) - betaln(ef, eg)\n",
    "    return lnpdf"
   ]
  },
  {
   "cell_type": "code",
   "execution_count": 105,
   "metadata": {
    "collapsed": false
   },
   "outputs": [],
   "source": [
    "def beta_variational_expectations_sampling(Y, mu, var, num_samples=20000):\n",
    "    samples = get_unit_samples(mu, var, num_samples=num_samples)\n",
    "    # Need to add dimension to Y to broadcast it across samples\n",
    "    int_log_py_samp = (1.0/num_samples)*np.sum(log_beta_func(samples,Y[:, None]), -1)  \n",
    "    return int_log_py_samp"
   ]
  },
  {
   "cell_type": "code",
   "execution_count": 106,
   "metadata": {
    "collapsed": false
   },
   "outputs": [],
   "source": [
    "int_log_py_samp_beta = beta_variational_expectations_sampling(Ybeta, mu, var, num_samples=num_samples)"
   ]
  },
  {
   "cell_type": "code",
   "execution_count": 107,
   "metadata": {
    "collapsed": false
   },
   "outputs": [
    {
     "name": "stdout",
     "output_type": "stream",
     "text": [
      "100 loops, best of 3: 10.8 ms per loop\n",
      "1000 loops, best of 3: 222 µs per loop\n"
     ]
    }
   ],
   "source": [
    "%timeit hbeta.variational_expectations(Y, mu, var)\n",
    "%timeit beta_variational_expectations_sampling(Ybeta, mu, var, num_samples=num_samples)"
   ]
  },
  {
   "cell_type": "code",
   "execution_count": 108,
   "metadata": {
    "collapsed": false
   },
   "outputs": [
    {
     "name": "stdout",
     "output_type": "stream",
     "text": [
      "0.00538385337756\n",
      "3.92855630776\n"
     ]
    }
   ],
   "source": [
    "diff = np.abs(int_log_py_samp -  int_logpy)\n",
    "print diff.min()\n",
    "print diff.max()"
   ]
  }
 ],
 "metadata": {
  "kernelspec": {
   "display_name": "Python 2",
   "language": "python",
   "name": "python2"
  },
  "language_info": {
   "codemirror_mode": {
    "name": "ipython",
    "version": 2
   },
   "file_extension": ".py",
   "mimetype": "text/x-python",
   "name": "python",
   "nbconvert_exporter": "python",
   "pygments_lexer": "ipython2",
   "version": "2.7.11"
  }
 },
 "nbformat": 4,
 "nbformat_minor": 0
}
