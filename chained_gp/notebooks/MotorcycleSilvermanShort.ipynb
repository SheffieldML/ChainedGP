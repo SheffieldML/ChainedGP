{
 "cells": [
  {
   "cell_type": "markdown",
   "metadata": {},
   "source": [
    "Motorcycle dataset analysis, found at http://vincentarelbundock.github.io/Rdatasets/datasets.html under 'mcycle'"
   ]
  },
  {
   "cell_type": "code",
   "execution_count": 1,
   "metadata": {
    "collapsed": false
   },
   "outputs": [
    {
     "name": "stdout",
     "output_type": "stream",
     "text": [
      "Caching disabled: False\n"
     ]
    }
   ],
   "source": [
    "import pandas as pd\n",
    "import matplotlib.pyplot as plt\n",
    "import numpy as np\n",
    "import GPy\n",
    "\n",
    "from chained_gp.het_student_t import HetStudentT\n",
    "from chained_gp.hetgp import HetGP\n",
    "\n",
    "from chained_gp.svgp_multi import SVGPMulti\n",
    "\n",
    "import matplotlib\n",
    "\n",
    "data_dir = '../data_download/'\n",
    "\n",
    "%matplotlib inline\n",
    "matplotlib.rcParams['figure.figsize'] = 12, 3  # that's default image size for this "
   ]
  },
  {
   "cell_type": "code",
   "execution_count": 2,
   "metadata": {
    "collapsed": false
   },
   "outputs": [],
   "source": [
    "restarts = 10\n",
    "n_folds = 5\n",
    "Ms = ['all']#, 100]\n",
    "#These are just starting values, lengthscales will also be randomized\n",
    "f_rbf_len = 0.3\n",
    "f_rbf_var = 0.5\n",
    "g_rbf_len = 0.5\n",
    "g_rbf_var = 0.5\n",
    "# This is the log of mean of the posterior of the scale parameter, so we set it\n",
    "# to be the log of roughly what we expect the scale parameter to be if it were\n",
    "# constant\n",
    "gauss_noise = 0.25\n",
    "g_mean_val = np.log(gauss_noise)\n",
    "g_bias_var = None\n",
    "f_bias_var = None#['mean']\n",
    "fixZ = True\n",
    "preopt_scg_iters = 100\n",
    "preopt_restarts = 3\n",
    "scg_iters = 50\n",
    "max_iters = 250\n",
    "num_samples = 100000\n",
    "gtol = 1e-5\n",
    "ftol = 0\n",
    "xtol = 0\n",
    "#gauss_dataset_names = []#['elevators1000']#, 'elevators10000']\n",
    "#stut_dataset_names = ['motorCorrupt', 'elevators1000']#, 'elevators10000']\n",
    "starting_df = 4.0\n",
    "optimize_df = True\n",
    "\n",
    "fold = 0\n",
    "seed = 0"
   ]
  },
  {
   "cell_type": "code",
   "execution_count": 3,
   "metadata": {
    "collapsed": false
   },
   "outputs": [],
   "source": [
    "np.random.seed(seed)"
   ]
  },
  {
   "cell_type": "code",
   "execution_count": 4,
   "metadata": {
    "collapsed": false
   },
   "outputs": [
    {
     "name": "stdout",
     "output_type": "stream",
     "text": [
      "training shape:  (106, 1)\n",
      "test shape:  (27, 1)\n",
      "All:  (133, 1)\n",
      "0\n"
     ]
    }
   ],
   "source": [
    "class Dataset(object):\n",
    "    def __init__(self, Xtrain, Ytrain, Xtest, Ytest):\n",
    "        self.Xtrain, self.Ytrain, self.Xtest, self.Ytest = Xtrain, Ytrain, Xtest, Ytest\n",
    "\n",
    "def load_motorCorrupt(fold, seed):\n",
    "    #Have merged the training and the test, and then put the header in the same file\n",
    "    data = pd.read_csv(data_dir + 'mcycle.csv', index_col=0)\n",
    "    data = data.reindex(np.random.permutation(data.index)) # Randomize so test isn't at the end\n",
    "    X = data['times'].values[:, None]\n",
    "    Y = data['accel'].values[:, None]\n",
    "    X = (X-X.mean(0))/X.std(0)\n",
    "    Y = (Y-Y.mean(0))/Y.std(0)\n",
    "\n",
    "    from sklearn import cross_validation\n",
    "    cv = cross_validation.KFold(n=X.shape[0], n_folds=n_folds, shuffle=True, random_state=seed)\n",
    "    #Stupidly you can't just index it...\n",
    "    for i, (train, test) in enumerate(cv):\n",
    "        if i==fold:\n",
    "            training_inds = train\n",
    "            test_inds = test\n",
    "\n",
    "    #Corrupt some Y's with larger noise\n",
    "    corrupt_inds = np.random.permutation(range(X.shape[0]))[:25]\n",
    "    Y[corrupt_inds] = np.random.randn(*Y[corrupt_inds].shape)*3.5\n",
    "\n",
    "    Xtrain = X[training_inds, :]\n",
    "    Ytrain = Y[training_inds, :]\n",
    "    Xtest = X[test_inds, :]\n",
    "    Ytest = Y[test_inds, :]\n",
    "\n",
    "    #Corrupt 20 training Y's with larger noise\n",
    "    #corrupt_inds = np.random.permutation(range(Xtrain.shape[0]))[:10]\n",
    "    #Ytrain[corrupt_inds] += np.random.randn(*Ytrain[corrupt_inds].shape)*2.0\n",
    "\n",
    "    print \"training shape: \", Xtrain.shape\n",
    "    print \"test shape: \", Xtest.shape\n",
    "    print \"All: \", X.shape\n",
    "    print Xtrain.shape[0] + Xtest.shape[0] - X.shape[0]\n",
    "    return Dataset(Xtrain=Xtrain, Ytrain=Ytrain, Xtest=Xtest, Ytest=Ytest), corrupt_inds, X, Y\n",
    "\n",
    "dataset, corrupt_inds, X, Y = load_motorCorrupt(fold, seed)\n",
    "Xtrain = dataset.Xtrain\n",
    "Ytrain = dataset.Ytrain\n",
    "Xtest = dataset.Xtest\n",
    "Ytest = dataset.Ytest\n",
    "\n",
    "#X = np.concatenate((Xtrain, Xtest))\n",
    "#Y = np.concatenate((Ytrain, Ytest))"
   ]
  },
  {
   "cell_type": "code",
   "execution_count": 5,
   "metadata": {
    "collapsed": false
   },
   "outputs": [
    {
     "data": {
      "text/plain": [
       "[<matplotlib.lines.Line2D at 0x114e39790>]"
      ]
     },
     "execution_count": 5,
     "metadata": {},
     "output_type": "execute_result"
    },
    {
     "data": {
      "image/png": "[encoded data removed]",
      "text/plain": [
       "<matplotlib.figure.Figure at 0x11491d350>"
      ]
     },
     "metadata": {},
     "output_type": "display_data"
    }
   ],
   "source": [
    "plt.plot(X, Y, 'rx')"
   ]
  },
  {
   "cell_type": "code",
   "execution_count": 6,
   "metadata": {
    "collapsed": false
   },
   "outputs": [
    {
     "name": "stdout",
     "output_type": "stream",
     "text": [
      "[ 3.95013173]\n",
      "[ 0.09021268]\n"
     ]
    },
    {
     "data": {
      "text/plain": [
       "(array([ 0.09021268]), array([ 0.0998731]))"
      ]
     },
     "execution_count": 6,
     "metadata": {},
     "output_type": "execute_result"
    }
   ],
   "source": [
    "def random_multi_lengthscales(X_):\n",
    "    normed_X = (X_.max(0) - X_.min(0))/X_.std(0)\n",
    "    #3 fluctuations in approximately the entire range\n",
    "    print normed_X\n",
    "    f_lengthscales = np.random.uniform(size=X_.shape[1])*(0.4/normed_X) + 0.001\n",
    "    g_lengthscales = np.random.uniform(size=X_.shape[1])*(0.4/normed_X) + 0.001\n",
    "    #f_lengthscales = X_.std(0)*np.random.uniform(size=X_train.shape[1])*0.05 + 0.001\n",
    "    #g_lengthscales = X_.std(0)*np.random.uniform(size=X_train.shape[1])*0.05 + 0.001\n",
    "    #f_lengthscales = np.abs(-0.5 + np.random.uniform(size=X_train.shape[1])*2.5)\n",
    "    #g_lengthscales = np.abs(-0.5 + np.random.uniform(size=X_train.shape[1])*2.5)\n",
    "    print f_lengthscales\n",
    "    return f_lengthscales, g_lengthscales\n",
    "\n",
    "random_multi_lengthscales(Xtrain)"
   ]
  },
  {
   "cell_type": "code",
   "execution_count": 7,
   "metadata": {
    "collapsed": false
   },
   "outputs": [],
   "source": [
    "def build_kernf(D, dataset, bias, f_rbf_len, f_rbf_var, seed, fold):\n",
    "    kernf = GPy.kern.RBF(D, variance=f_rbf_var,\n",
    "                         lengthscale=np.ones(D)*f_rbf_len, ARD=True,\n",
    "                         name='kernf_rbf')\n",
    "    #kernf += GPy.kern.Linear(D, ARD=True, name='kernf_linear')\n",
    "    kernf += GPy.kern.White(1, variance=0.001, name='f_white')\n",
    "    if bias is not None:\n",
    "        if bias == 'mean':\n",
    "            f_bias_var = dataset.Ytrain.mean()\n",
    "        else:\n",
    "            f_bias_var = bias\n",
    "            kernf += GPy.kern.Bias(1, variance=f_bias_var, name='f_bias')\n",
    "    kernf.f_white.fix()\n",
    "    kernf.name = 'kernf'\n",
    "    return kernf\n",
    "\n",
    "def build_kerng(D, g_bias, g_rbf_len, seed, fold):\n",
    "    #Needs white or variance doesn't checkgrad!\n",
    "    kerng = GPy.kern.RBF(D, variance=g_rbf_var,\n",
    "                         lengthscale=np.ones(D)*g_rbf_len, ARD=True,\n",
    "                         name='kerng_rbf')\n",
    "    kerng += GPy.kern.White(1, variance=0.001, name='g_white')\n",
    "    if g_bias is not None:\n",
    "        kerng += GPy.kern.Bias(1, variance=g_bias, name='g_bias')\n",
    "    kerng.g_white.fix()\n",
    "    kerng.name = 'kerng'\n",
    "    return kerng\n",
    "from scipy.cluster.vq import kmeans as scipy_kmeans\n",
    "\n",
    "def kmeans(dataset, k, seed):\n",
    "    Z, _ = scipy_kmeans(dataset.Xtrain, k)\n",
    "    return Z\n",
    "\n",
    "def build_gauss_model(dataset, Z, fixZ, bias, f_rbf_len, f_rbf_var, seed, fold):\n",
    "    D = dataset.Xtrain.shape[1]\n",
    "    kernf = build_kernf(D, dataset, bias, f_rbf_len, f_rbf_var, seed, fold)\n",
    "    m_gauss = GPy.models.SparseGPRegression(dataset.Xtrain.copy(), dataset.Ytrain.copy(), Z=Z.copy(), kernel=kernf)\n",
    "    m_gauss.name='gauss_single'\n",
    "    m_gauss.likelihood.variance[:] = gauss_noise\n",
    "    return m_gauss\n",
    "\n",
    "def preopt_gauss_scheme(m):\n",
    "    m.kernf.constrain_positive()\n",
    "    m.likelihood.variance.constrain_positive()\n",
    "    if hasattr(m, 'Z'):\n",
    "        m.Z.fix()\n",
    "    m.optimize('bfgs', max_iters=preopt_scg_iters, gtol=gtol, messages=1, xtol=xtol, ftol=ftol)\n",
    "    if hasattr(m, 'Z'):\n",
    "        m.Z.unfix()\n",
    "    m.optimize('bfgs', max_iters=5*preopt_scg_iters, gtol=gtol, messages=1, xtol=xtol, ftol=ftol)\n",
    "    return m\n",
    "\n",
    "def preopt_gauss(dataset, Z, fixZ, bias, f_rbf_len, f_rbf_var, random_func, seed, fold):\n",
    "    m = build_gauss_model(dataset, Z, fixZ, bias, f_rbf_len, f_rbf_var, seed, fold)\n",
    "    print \"PreOptimizing gauss \", m\n",
    "    print m.kernf.kernf_rbf.lengthscale\n",
    "    best_m = preopt_gauss_scheme(m)\n",
    "    print \"Found best gauss model\"\n",
    "    print best_m\n",
    "    return best_m[:]\n"
   ]
  },
  {
   "cell_type": "code",
   "execution_count": 8,
   "metadata": {
    "collapsed": false
   },
   "outputs": [
    {
     "name": "stdout",
     "output_type": "stream",
     "text": [
      "PreOptimizing gauss  \n",
      "Name : gauss_single\n",
      "Objective : 297.252895177\n",
      "Number of Parameters : 110\n",
      "Number of Optimization Parameters : 109\n",
      "Updates : True\n",
      "Parameters:\n",
      "  \u001b[1mgauss_single.              \u001b[0;0m  |     value  |  constraints  |  priors\n",
      "  \u001b[1minducing inputs            \u001b[0;0m  |  (106, 1)  |               |        \n",
      "  \u001b[1mkernf.kernf_rbf.variance   \u001b[0;0m  |       0.5  |      +ve      |        \n",
      "  \u001b[1mkernf.kernf_rbf.lengthscale\u001b[0;0m  |       0.3  |      +ve      |        \n",
      "  \u001b[1mkernf.f_white.variance     \u001b[0;0m  |     0.001  |   +ve fixed   |        \n",
      "  \u001b[1mGaussian_noise.variance    \u001b[0;0m  |      0.25  |      +ve      |        \n",
      "  \u001b[1mindex\u001b[0;0m  |  gauss_single.kernf.kernf_rbf.lengthscale  |  constraints  |  priors\n",
      "  \u001b[1m[0]  \u001b[0;0m  |                                0.30000000  |      +ve      |        \n",
      "WARNING: reconstraining parameters gauss_single.kernf\n",
      "WARNING: reconstraining parameters gauss_single.Gaussian_noise.variance\n",
      "Running L-BFGS-B (Scipy implementation) Code:\n",
      "  runtime   i     f              |g|        \n",
      "WARNING: l-bfgs-b doesn't have an xtol arg, so I'm going to ignore it\n",
      "WARNING: l-bfgs-b doesn't have an ftol arg, so I'm going to ignore it\n",
      "    00s16  010   1.739286e+02   1.508643e-02 \n",
      "    00s28  018   1.738995e+02   2.920487e-02 \n",
      "    00s51  037   1.738808e+02   3.062670e-06 \n",
      "Runtime:     00s51\n",
      "Optimization status: Converged\n",
      "\n",
      "Running L-BFGS-B (Scipy implementation) Code:\n",
      "  runtime   i     f              |g|        \n",
      "WARNING: l-bfgs-b doesn't have an xtol arg, so I'm going to ignore it\n",
      "WARNING: l-bfgs-b doesn't have an ftol arg, so I'm going to ignore it\n",
      "    00s04  004   1.738808e+02   6.402334e-07 \n",
      "Runtime:     00s04\n",
      "Optimization status: Converged\n",
      "\n",
      "Found best gauss model\n",
      "\n",
      "Name : gauss_single\n",
      "Objective : 173.880832636\n",
      "Number of Parameters : 110\n",
      "Number of Optimization Parameters : 110\n",
      "Updates : True\n",
      "Parameters:\n",
      "  \u001b[1mgauss_single.              \u001b[0;0m  |              value  |  constraints  |  priors\n",
      "  \u001b[1minducing inputs            \u001b[0;0m  |           (106, 1)  |               |        \n",
      "  \u001b[1mkernf.kernf_rbf.variance   \u001b[0;0m  |     0.614510244628  |      +ve      |        \n",
      "  \u001b[1mkernf.kernf_rbf.lengthscale\u001b[0;0m  |     0.277123916017  |      +ve      |        \n",
      "  \u001b[1mkernf.f_white.variance     \u001b[0;0m  |  2.97952315372e-08  |      +ve      |        \n",
      "  \u001b[1mGaussian_noise.variance    \u001b[0;0m  |      1.32370465108  |      +ve      |        \n"
     ]
    }
   ],
   "source": [
    "#m1.optimize(messages=1)\n",
    "m1_opt = preopt_gauss(dataset, Xtrain.copy(), fixZ, f_bias_var, f_rbf_len, f_rbf_var, random_multi_lengthscales, seed, fold)\n",
    "m1 = build_gauss_model(dataset, Xtrain.copy(), fixZ, f_bias_var, f_rbf_len, f_rbf_var, seed, fold)\n",
    "m1[:] = m1_opt"
   ]
  },
  {
   "cell_type": "code",
   "execution_count": 9,
   "metadata": {
    "collapsed": false
   },
   "outputs": [
    {
     "data": {
      "text/plain": [
       "<matplotlib.axes._subplots.AxesSubplot at 0x114deee90>"
      ]
     },
     "execution_count": 9,
     "metadata": {},
     "output_type": "execute_result"
    },
    {
     "name": "stderr",
     "output_type": "stream",
     "text": [
      " /Users/alansaul/anaconda/lib/python2.7/site-packages/matplotlib/figure.py:1718: UserWarning:This figure includes Axes that are not compatible with tight_layout, so its results might be incorrect.\n"
     ]
    },
    {
     "data": {
      "image/png": "[encoded data removed]",
      "text/plain": [
       "<matplotlib.figure.Figure at 0x114e6df90>"
      ]
     },
     "metadata": {},
     "output_type": "display_data"
    }
   ],
   "source": [
    "m1.plot()"
   ]
  },
  {
   "cell_type": "code",
   "execution_count": 10,
   "metadata": {
    "collapsed": false
   },
   "outputs": [
    {
     "name": "stdout",
     "output_type": "stream",
     "text": [
      "\n",
      "Name : gauss_single\n",
      "Objective : 173.880832636\n",
      "Number of Parameters : 110\n",
      "Number of Optimization Parameters : 109\n",
      "Updates : True\n",
      "Parameters:\n",
      "  \u001b[1mgauss_single.              \u001b[0;0m  |              value  |  constraints  |  priors\n",
      "  \u001b[1minducing inputs            \u001b[0;0m  |           (106, 1)  |               |        \n",
      "  \u001b[1mkernf.kernf_rbf.variance   \u001b[0;0m  |     0.614510244628  |      +ve      |        \n",
      "  \u001b[1mkernf.kernf_rbf.lengthscale\u001b[0;0m  |     0.277123916017  |      +ve      |        \n",
      "  \u001b[1mkernf.f_white.variance     \u001b[0;0m  |  2.97952315372e-08  |   +ve fixed   |        \n",
      "  \u001b[1mGaussian_noise.variance    \u001b[0;0m  |      1.32370465108  |      +ve      |        \n"
     ]
    }
   ],
   "source": [
    "print m1"
   ]
  },
  {
   "cell_type": "code",
   "execution_count": 11,
   "metadata": {
    "collapsed": false
   },
   "outputs": [
    {
     "name": "stdout",
     "output_type": "stream",
     "text": [
      "  \u001b[1mconstmap.\u001b[0;0m  |           value  |  constraints  |  priors\n",
      "  \u001b[1mC        \u001b[0;0m  |  -1.38629436112  |               |        \n",
      "[ 3.95013173]\n",
      "[ 0.08086968]\n",
      "\n",
      "Name : multi_gauss\n",
      "Objective : 39548.9828084\n",
      "Number of Parameters : 11667\n",
      "Number of Optimization Parameters : 11554\n",
      "Updates : True\n",
      "Parameters:\n",
      "  \u001b[1mmulti_gauss.               \u001b[0;0m  |            value  |  constraints  |  priors\n",
      "  \u001b[1minducing inputs            \u001b[0;0m  |         (106, 1)  |     fixed     |        \n",
      "  \u001b[1mq_u_means                  \u001b[0;0m  |         (106, 2)  |               |        \n",
      "  \u001b[1mqf_u_chols                 \u001b[0;0m  |        (5671, 2)  |               |        \n",
      "  \u001b[1mkernf.kernf_rbf.variance   \u001b[0;0m  |              0.5  |   +ve fixed   |        \n",
      "  \u001b[1mkernf.kernf_rbf.lengthscale\u001b[0;0m  |  0.0808696834682  |   +ve fixed   |        \n",
      "  \u001b[1mkernf.f_white.variance     \u001b[0;0m  |            0.001  |   +ve fixed   |        \n",
      "  \u001b[1mkerng.kerng_rbf.variance   \u001b[0;0m  |              0.5  |   +ve fixed   |        \n",
      "  \u001b[1mkerng.kerng_rbf.lengthscale\u001b[0;0m  |  0.0242338413092  |   +ve fixed   |        \n",
      "  \u001b[1mkerng.g_white.variance     \u001b[0;0m  |            0.001  |   +ve fixed   |        \n",
      "  \u001b[1mconstmap.C                 \u001b[0;0m  |   -1.38629436112  |     fixed     |        \n",
      "Running Scaled Conjugate Gradients Code:\n",
      "  runtime   i     f              |g|        \n",
      "    00s05  004   3.756796e+03   6.205647e+07 \n",
      "    00s18  012   1.107471e+03   5.468923e+05 \n",
      "    00s28  019   6.975033e+02   3.318252e+06 \n",
      "    00s90  067   4.099316e+02   1.171364e+04 \n",
      "    01s81  148   2.571731e+02   3.408959e+03 \n",
      "    03s48  302   1.848837e+02   3.352156e+02 \n",
      "Runtime:     03s48\n",
      "Optimization status: maxiter exceeded\n",
      "\n",
      "WARNING: reconstraining parameters multi_gauss.kernf\n",
      "WARNING: reconstraining parameters multi_gauss.kerng\n",
      "Running Scaled Conjugate Gradients Code:\n",
      "  runtime   i     f              |g|        \n",
      "    00s04  002   1.848837e+02   2.473492e+03 \n",
      "    00s24  011   1.745962e+02   5.847117e+02 \n",
      "    00s60  028   1.731401e+02   2.384897e+02 \n",
      "    02s13  123   1.625263e+02   1.420079e+02 \n",
      "    03s96  236   1.583045e+02   1.041754e+02 \n",
      "    05s06  302   1.564920e+02   1.118622e+02 \n",
      "Runtime:     05s06\n",
      "Optimization status: maxiter exceeded\n",
      "\n",
      "Running L-BFGS-B (Scipy implementation) Code:\n",
      "  runtime   i     f              |g|        \n",
      "WARNING: l-bfgs-b doesn't have an xtol arg, so I'm going to ignore it\n",
      "WARNING: l-bfgs-b doesn't have an ftol arg, so I'm going to ignore it\n",
      "    00s08  003   1.564376e+02   9.328163e+01 \n",
      "    00s28  010   1.562772e+02   1.181231e+01 \n",
      "    01s53  070   1.518813e+02   6.045594e+01 \n",
      "    03s08  133   1.499512e+02   1.421069e+01 \n",
      "    08s04  363   1.490596e+02   1.341043e-01 \n",
      "    09s57  451   1.490547e+02   1.016742e-02 \n",
      "    10s46  502   1.490542e+02   2.903881e-03 \n",
      "Runtime:     10s46\n",
      "Optimization status: Maximum number of f evaluations reached\n",
      "\n"
     ]
    }
   ],
   "source": [
    "#Make the kernels\n",
    "D = dataset.Xtrain.shape[1]\n",
    "kernf = build_kernf(D, dataset, f_bias_var, f_rbf_len, f_rbf_var, seed, fold)\n",
    "kerng = build_kerng(D, g_bias_var, g_rbf_len, seed, fold)\n",
    "kern = [kernf, kerng]\n",
    "\n",
    "#Multiple latent process model\n",
    "if g_mean_val is not None:\n",
    "    g_mean = GPy.mappings.Constant(input_dim=13, output_dim=1, value=g_mean_val)\n",
    "    print g_mean\n",
    "mean_functions = [None, g_mean]\n",
    "likelihood = HetGP()\n",
    "\n",
    "Z = dataset.Xtrain.copy()\n",
    "#Make the model\n",
    "m2 = SVGPMulti(dataset.Xtrain.copy(), dataset.Ytrain.copy(), Z.copy(), kern_list=kern,\n",
    "                    likelihood=likelihood, mean_functions=mean_functions, name='multi_gauss')\n",
    "\n",
    "\n",
    "def pretrain_multi(m, randomize=True):\n",
    "    if randomize:\n",
    "        f_lens, g_lens = random_multi_lengthscales(m.X.values)\n",
    "        m.kernf.kernf_rbf.lengthscale[:] = f_lens\n",
    "        m.kernf.kernf_rbf.variance[:] = f_rbf_var\n",
    "        m.kerng.kerng_rbf.lengthscale[:] = g_lens\n",
    "        m.kerng.kerng_rbf.variance[:] = g_rbf_var\n",
    "    m.kernf.fix()\n",
    "    m.kerng.fix()\n",
    "    if hasattr(m, 'Z'):\n",
    "        m.Z.fix()\n",
    "    if hasattr(m, 'constmap'):\n",
    "        m.constmap.fix()\n",
    "    print m\n",
    "\n",
    "    #Optimize model with fixed parameters to get latent functions in place\n",
    "    m.optimize('scg', max_iters=1*preopt_scg_iters, gtol=gtol, messages=1, xtol=xtol, ftol=ftol)\n",
    "    #Constrain all kernel parameters positive and reoptimize\n",
    "    m.kernf.constrain_positive()\n",
    "    m.kerng.constrain_positive()\n",
    "    m.kernf.f_white.fix()\n",
    "    m.kerng.g_white.fix()\n",
    "    if hasattr(m, 'constmap'):\n",
    "        m.constmap.unfix()\n",
    "\n",
    "    # Continue with optimization with everything released\n",
    "    m.optimize('scg', max_iters=1*preopt_scg_iters, gtol=gtol, messages=1, xtol=xtol, ftol=ftol)\n",
    "    #if hasattr(m, 'Z'):\n",
    "    #    m.Z.unfix()\n",
    "    m.optimize('bfgs', max_iters=5*preopt_scg_iters, gtol=gtol, messages=1, xtol=xtol, ftol=ftol)\n",
    "\n",
    "    return m\n",
    "\n",
    "m2 = pretrain_multi(m2)"
   ]
  },
  {
   "cell_type": "code",
   "execution_count": 12,
   "metadata": {
    "collapsed": false
   },
   "outputs": [
    {
     "name": "stdout",
     "output_type": "stream",
     "text": [
      "\n",
      "Name : multi_gauss\n",
      "Objective : 149.054198023\n",
      "Number of Parameters : 11667\n",
      "Number of Optimization Parameters : 11559\n",
      "Updates : True\n",
      "Parameters:\n",
      "  \u001b[1mmulti_gauss.               \u001b[0;0m  |             value  |  constraints  |  priors\n",
      "  \u001b[1minducing inputs            \u001b[0;0m  |          (106, 1)  |     fixed     |        \n",
      "  \u001b[1mq_u_means                  \u001b[0;0m  |          (106, 2)  |               |        \n",
      "  \u001b[1mqf_u_chols                 \u001b[0;0m  |         (5671, 2)  |               |        \n",
      "  \u001b[1mkernf.kernf_rbf.variance   \u001b[0;0m  |    0.748852800073  |      +ve      |        \n",
      "  \u001b[1mkernf.kernf_rbf.lengthscale\u001b[0;0m  |    0.339295438162  |      +ve      |        \n",
      "  \u001b[1mkernf.f_white.variance     \u001b[0;0m  |             0.001  |   +ve fixed   |        \n",
      "  \u001b[1mkerng.kerng_rbf.variance   \u001b[0;0m  |     2.10280795023  |      +ve      |        \n",
      "  \u001b[1mkerng.kerng_rbf.lengthscale\u001b[0;0m  |  0.00339158041807  |      +ve      |        \n",
      "  \u001b[1mkerng.g_white.variance     \u001b[0;0m  |             0.001  |   +ve fixed   |        \n",
      "  \u001b[1mconstmap.C                 \u001b[0;0m  |   -0.988675254174  |               |        \n"
     ]
    }
   ],
   "source": [
    "print m2"
   ]
  },
  {
   "cell_type": "code",
   "execution_count": 13,
   "metadata": {
    "collapsed": false
   },
   "outputs": [
    {
     "data": {
      "text/plain": [
       "[<matplotlib.lines.Line2D at 0x117dd45d0>]"
      ]
     },
     "execution_count": 13,
     "metadata": {},
     "output_type": "execute_result"
    },
    {
     "data": {
      "image/png": "[encoded data removed]",
      "text/plain": [
       "<matplotlib.figure.Figure at 0x117c8a890>"
      ]
     },
     "metadata": {},
     "output_type": "display_data"
    }
   ],
   "source": [
    "m2.plot_f()\n",
    "plt.plot(Xtrain, Ytrain, 'rx')"
   ]
  },
  {
   "cell_type": "code",
   "execution_count": 14,
   "metadata": {
    "collapsed": false
   },
   "outputs": [
    {
     "name": "stdout",
     "output_type": "stream",
     "text": [
      "  \u001b[1mconstmap.\u001b[0;0m  |           value  |  constraints  |  priors\n",
      "  \u001b[1mC        \u001b[0;0m  |  -1.38629436112  |               |        \n",
      "[ 3.95013173]\n",
      "[ 0.08679717]\n",
      "\n",
      "Name : multi_stut\n",
      "Objective : 49736.0155909\n",
      "Number of Parameters : 11668\n",
      "Number of Optimization Parameters : 11554\n",
      "Updates : True\n",
      "Parameters:\n",
      "  \u001b[1mmulti_stut.                \u001b[0;0m  |            value  |  constraints  |  priors\n",
      "  \u001b[1minducing inputs            \u001b[0;0m  |         (106, 1)  |     fixed     |        \n",
      "  \u001b[1mHetro_Student_T.deg_free   \u001b[0;0m  |              4.0  |   +ve fixed   |        \n",
      "  \u001b[1mq_u_means                  \u001b[0;0m  |         (106, 2)  |               |        \n",
      "  \u001b[1mqf_u_chols                 \u001b[0;0m  |        (5671, 2)  |               |        \n",
      "  \u001b[1mkernf.kernf_rbf.variance   \u001b[0;0m  |              0.5  |   +ve fixed   |        \n",
      "  \u001b[1mkernf.kernf_rbf.lengthscale\u001b[0;0m  |  0.0867971713558  |   +ve fixed   |        \n",
      "  \u001b[1mkernf.f_white.variance     \u001b[0;0m  |            0.001  |   +ve fixed   |        \n",
      "  \u001b[1mkerng.kerng_rbf.variance   \u001b[0;0m  |              0.5  |   +ve fixed   |        \n",
      "  \u001b[1mkerng.kerng_rbf.lengthscale\u001b[0;0m  |  0.0699960918264  |   +ve fixed   |        \n",
      "  \u001b[1mkerng.g_white.variance     \u001b[0;0m  |            0.001  |   +ve fixed   |        \n",
      "  \u001b[1mconstmap.C                 \u001b[0;0m  |   -1.38629436112  |     fixed     |        \n",
      "Running Scaled Conjugate Gradients Code:\n",
      "  runtime   i     f              |g|        \n",
      "    00s01  001   4.973602e+04           nan \n",
      "    00s18  011   4.489034e+03   3.995001e+06 \n",
      "    00s29  018   4.395895e+03   3.776722e+06 \n",
      "    00s59  039   5.577923e+02   1.209304e+12 \n",
      "    00s90  064   5.521814e+02   1.795612e+07 \n",
      "    01s51  114   2.698853e+02   1.114515e+04 \n",
      "    02s73  221   1.869751e+02   1.962155e+03 \n",
      "    03s69  300   1.665105e+02   5.973622e+02 \n",
      "Runtime:     03s69\n",
      "Optimization status: maxiter exceeded\n",
      "\n",
      "WARNING: reconstraining parameters multi_stut.kernf\n",
      "WARNING: reconstraining parameters multi_stut.kerng\n",
      "Running Scaled Conjugate Gradients Code:\n",
      "  runtime   i     f              |g|        \n",
      "    00s08  004   1.657884e+02   1.047105e+03 \n",
      "    00s28  012   1.630945e+02   1.327545e+03 \n",
      "    01s21  065   1.582390e+02   1.522380e+02 \n",
      "    02s75  158   1.528073e+02   1.017442e+02 \n",
      "    05s19  302   1.493068e+02   7.171308e+01 \n",
      "Runtime:     05s19\n",
      "Optimization status: maxiter exceeded\n",
      "\n",
      "Running L-BFGS-B (Scipy implementation) Code:\n",
      "  runtime   i     f              |g|        \n",
      "WARNING: l-bfgs-b doesn't have an xtol arg, so I'm going to ignore it\n",
      "WARNING: l-bfgs-b doesn't have an ftol arg, so I'm going to ignore it\n",
      "    00s17  006   1.492182e+02   1.264402e+01 \n",
      "    00s29  010   1.491228e+02   2.394682e+01 \n",
      "    01s20  058   1.469191e+02   5.121715e+01 \n",
      "    02s13  110   1.456655e+02   4.654779e+01 \n",
      "    07s76  354   1.435078e+02   3.858547e-01 \n",
      "    12s71  502   1.433801e+02   6.828874e-01 \n",
      "Runtime:     12s71\n",
      "Optimization status: Maximum number of f evaluations reached\n",
      "\n"
     ]
    }
   ],
   "source": [
    "#Make the kernels\n",
    "D = dataset.Xtrain.shape[1]\n",
    "kernf = build_kernf(D, dataset, f_bias_var, f_rbf_len, f_rbf_var, seed, fold)\n",
    "kerng = build_kerng(D, g_bias_var, g_rbf_len, seed, fold)\n",
    "kern = [kernf, kerng]\n",
    "\n",
    "#Multiple latent process model\n",
    "if g_mean_val is not None:\n",
    "    g_mean = GPy.mappings.Constant(input_dim=13, output_dim=1, value=g_mean_val)\n",
    "    print g_mean\n",
    "mean_functions = [None, g_mean]\n",
    "likelihood = HetGP()\n",
    "\n",
    "Z = dataset.Xtrain.copy()\n",
    "#Make the model\n",
    "likelihood = HetStudentT(deg_free=starting_df)\n",
    "m3 = SVGPMulti(dataset.Xtrain.copy(), dataset.Ytrain.copy(), Z.copy(), kern_list=kern,\n",
    "                    likelihood=likelihood, mean_functions=mean_functions, name='multi_stut')\n",
    "\n",
    "\n",
    "def pretrain_multi(m, randomize=True):\n",
    "    if randomize:\n",
    "        f_lens, g_lens = random_multi_lengthscales(m.X.values)\n",
    "        m.kernf.kernf_rbf.lengthscale[:] = f_lens\n",
    "        m.kernf.kernf_rbf.variance[:] = f_rbf_var\n",
    "        m.kerng.kerng_rbf.lengthscale[:] = g_lens\n",
    "        m.kerng.kerng_rbf.variance[:] = g_rbf_var\n",
    "    m.kernf.fix()\n",
    "    m.kerng.fix()\n",
    "    if hasattr(m, 'Z'):\n",
    "        m.Z.fix()\n",
    "    if hasattr(m, 'constmap'):\n",
    "        m.constmap.fix()\n",
    "    print m\n",
    "\n",
    "    #Optimize model with fixed parameters to get latent functions in place\n",
    "    m.optimize('scg', max_iters=1*preopt_scg_iters, gtol=gtol, messages=1, xtol=xtol, ftol=ftol)\n",
    "    #Constrain all kernel parameters positive and reoptimize\n",
    "    m.kernf.constrain_positive()\n",
    "    m.kerng.constrain_positive()\n",
    "    m.kernf.f_white.fix()\n",
    "    m.kerng.g_white.fix()\n",
    "    if hasattr(m, 'constmap'):\n",
    "        m.constmap.unfix()\n",
    "\n",
    "    # Continue with optimization with everything released\n",
    "    m.optimize('scg', max_iters=1*preopt_scg_iters, gtol=gtol, messages=1, xtol=xtol, ftol=ftol)\n",
    "    #if hasattr(m, 'Z'):\n",
    "    #    m.Z.unfix()\n",
    "    m.optimize('bfgs', max_iters=5*preopt_scg_iters, gtol=gtol, messages=1, xtol=xtol, ftol=ftol)\n",
    "\n",
    "    return m\n",
    "\n",
    "m3 = pretrain_multi(m3)"
   ]
  },
  {
   "cell_type": "code",
   "execution_count": 15,
   "metadata": {
    "collapsed": false
   },
   "outputs": [
    {
     "name": "stdout",
     "output_type": "stream",
     "text": [
      "Running L-BFGS-B (Scipy implementation) Code:\n",
      "  runtime   i      f              |g|        \n",
      "    00s02  0002   1.794427e+02   2.647319e+02 \n",
      "    00s04  0004   1.738808e+02   3.708823e-07 \n",
      "Runtime:     00s04\n",
      "Optimization status: Converged\n",
      "\n",
      "\n",
      "Name : gauss_single\n",
      "Objective : 173.880832592\n",
      "Number of Parameters : 110\n",
      "Number of Optimization Parameters : 109\n",
      "Updates : True\n",
      "Parameters:\n",
      "  \u001b[1mgauss_single.              \u001b[0;0m  |              value  |  constraints  |  priors\n",
      "  \u001b[1minducing inputs            \u001b[0;0m  |           (106, 1)  |               |        \n",
      "  \u001b[1mkernf.kernf_rbf.variance   \u001b[0;0m  |     0.614481229451  |      +ve      |        \n",
      "  \u001b[1mkernf.kernf_rbf.lengthscale\u001b[0;0m  |     0.277139032745  |      +ve      |        \n",
      "  \u001b[1mkernf.f_white.variance     \u001b[0;0m  |  2.97952315372e-08  |   +ve fixed   |        \n",
      "  \u001b[1mGaussian_noise.variance    \u001b[0;0m  |      1.32366475514  |      +ve      |        \n",
      "Running L-BFGS-B (Scipy implementation) Code:\n",
      "  runtime   i      f              |g|        \n",
      "    00s29  0005   1.490542e+02   5.012508e-01 \n",
      "    00s48  0014   1.490542e+02   1.726304e-02 \n",
      "Runtime:     00s48\n",
      "Optimization status: Converged\n",
      "\n",
      "\n",
      "Name : multi_gauss\n",
      "Objective : 149.054192611\n",
      "Number of Parameters : 11667\n",
      "Number of Optimization Parameters : 11665\n",
      "Updates : True\n",
      "Parameters:\n",
      "  \u001b[1mmulti_gauss.               \u001b[0;0m  |            value  |  constraints  |  priors\n",
      "  \u001b[1minducing inputs            \u001b[0;0m  |         (106, 1)  |               |        \n",
      "  \u001b[1mq_u_means                  \u001b[0;0m  |         (106, 2)  |               |        \n",
      "  \u001b[1mqf_u_chols                 \u001b[0;0m  |        (5671, 2)  |               |        \n",
      "  \u001b[1mkernf.kernf_rbf.variance   \u001b[0;0m  |   0.748853085134  |      +ve      |        \n",
      "  \u001b[1mkernf.kernf_rbf.lengthscale\u001b[0;0m  |   0.339295295775  |      +ve      |        \n",
      "  \u001b[1mkernf.f_white.variance     \u001b[0;0m  |            0.001  |   +ve fixed   |        \n",
      "  \u001b[1mkerng.kerng_rbf.variance   \u001b[0;0m  |    2.10280793312  |      +ve      |        \n",
      "  \u001b[1mkerng.kerng_rbf.lengthscale\u001b[0;0m  |  0.0033915789361  |      +ve      |        \n",
      "  \u001b[1mkerng.g_white.variance     \u001b[0;0m  |            0.001  |   +ve fixed   |        \n",
      "  \u001b[1mconstmap.C                 \u001b[0;0m  |  -0.988675088243  |               |        \n",
      "Running L-BFGS-B (Scipy implementation) Code:\n",
      "  runtime   i      f              |g|        \n",
      "    00s22  0006   1.433794e+02   3.441718e+01 \n",
      "    00s29  0008   1.433793e+02   1.399428e+02 \n",
      "    01s23  0049   1.433779e+02   1.450868e+01 \n",
      "    04s97  0176   1.433761e+02   4.955154e+00 \n",
      "    13s78  0514   1.433723e+02   3.882914e+00 \n",
      "    42s25  1460   1.433628e+02   5.070366e+00 \n",
      " 01m27s47  3002   1.433546e+02   1.374299e+01 \n",
      "Runtime:  01m27s47\n",
      "Optimization status: Maximum number of f evaluations reached\n",
      "\n",
      "\n",
      "Name : multi_stut\n",
      "Objective : 143.354628037\n",
      "Number of Parameters : 11668\n",
      "Number of Optimization Parameters : 11665\n",
      "Updates : True\n",
      "Parameters:\n",
      "  \u001b[1mmulti_stut.                \u001b[0;0m  |            value  |  constraints  |  priors\n",
      "  \u001b[1minducing inputs            \u001b[0;0m  |         (106, 1)  |               |        \n",
      "  \u001b[1mHetro_Student_T.deg_free   \u001b[0;0m  |              4.0  |   +ve fixed   |        \n",
      "  \u001b[1mq_u_means                  \u001b[0;0m  |         (106, 2)  |               |        \n",
      "  \u001b[1mqf_u_chols                 \u001b[0;0m  |        (5671, 2)  |               |        \n",
      "  \u001b[1mkernf.kernf_rbf.variance   \u001b[0;0m  |   0.731412444013  |      +ve      |        \n",
      "  \u001b[1mkernf.kernf_rbf.lengthscale\u001b[0;0m  |   0.318096185315  |      +ve      |        \n",
      "  \u001b[1mkernf.f_white.variance     \u001b[0;0m  |            0.001  |   +ve fixed   |        \n",
      "  \u001b[1mkerng.kerng_rbf.variance   \u001b[0;0m  |    2.99876783401  |      +ve      |        \n",
      "  \u001b[1mkerng.kerng_rbf.lengthscale\u001b[0;0m  |  0.0664788036712  |      +ve      |        \n",
      "  \u001b[1mkerng.g_white.variance     \u001b[0;0m  |            0.001  |   +ve fixed   |        \n",
      "  \u001b[1mconstmap.C                 \u001b[0;0m  |   -1.50329803694  |               |        \n"
     ]
    }
   ],
   "source": [
    "m1.Z.unfix()\n",
    "m2.Z.unfix()\n",
    "m3.Z.unfix()\n",
    "m1.optimize('bfgs', max_iters=3000, messages=1)\n",
    "print m1\n",
    "m2.optimize('bfgs', max_iters=3000, messages=1)\n",
    "print m2\n",
    "m3.optimize('bfgs', max_iters=3000, messages=1)\n",
    "print m3"
   ]
  },
  {
   "cell_type": "code",
   "execution_count": 16,
   "metadata": {
    "collapsed": false
   },
   "outputs": [
    {
     "name": "stdout",
     "output_type": "stream",
     "text": [
      "WARNING: reconstraining parameters multi_stut.Hetro_Student_T.deg_free\n",
      "Running Scaled Conjugate Gradients Code:\n",
      "  runtime   i    f              |g|        \n",
      "    00s27  08   1.433116e+02   5.869234e+01 \n",
      "    01s20  54   1.426390e+02   8.207087e+00 \n",
      "    03s93  152   1.420495e+02   1.578275e+01 \n",
      "Runtime:     03s93\n",
      "Optimization status: maxiter exceeded\n",
      "\n"
     ]
    }
   ],
   "source": [
    "m3_free_df = m3.copy()\n",
    "m3_free_df.Z.fix()\n",
    "m3_free_df.likelihood.deg_free.constrain_positive()\n",
    "m3_free_df.optimize('scg', messages=1, max_iters=50)"
   ]
  },
  {
   "cell_type": "code",
   "execution_count": 17,
   "metadata": {
    "collapsed": false
   },
   "outputs": [
    {
     "name": "stdout",
     "output_type": "stream",
     "text": [
      "Running Scaled Conjugate Gradients Code:\n",
      "  runtime   i     f              |g|        \n",
      "    00s05  002   1.420495e+02   1.630991e+01 \n",
      "    00s28  008   1.420292e+02   1.135898e+01 \n",
      "    00s89  036   1.419156e+02   1.262498e+01 \n",
      "    04s00  141   1.415680e+02   2.241280e+01 \n",
      "    10s56  435   1.400574e+02   4.245736e+00 \n",
      "    15s19  602   1.398263e+02   4.950666e+00 \n",
      "Runtime:     15s19\n",
      "Optimization status: maxiter exceeded\n",
      "\n",
      "Running L-BFGS-B (Scipy implementation) Code:\n",
      "  runtime   i      f              |g|        \n",
      "    00s08  0002   4.126613e+02   1.485144e+06 \n",
      "    00s26  0005   1.398190e+02   1.457861e+00 \n",
      "    01s52  0041   1.397688e+02   2.841955e+00 \n",
      "    05s11  0137   1.394231e+02   2.147361e+00 \n",
      "    13s01  0394   1.373723e+02   6.671132e+01 \n",
      "    25s66  0857   1.358099e+02   1.601923e-01 \n",
      "    28s47  0969   1.358046e+02   1.537248e-02 \n",
      "    31s33  1086   1.358035e+02   3.432293e-03 \n",
      "    32s05  1116   1.358035e+02   2.844751e-03 \n",
      "Runtime:     32s05\n",
      "Optimization status: Converged\n",
      "\n"
     ]
    }
   ],
   "source": [
    "#m3_free_df.Z.unfix()\n",
    "m3_free_df.optimize('scg', messages=1, max_iters=200)\n",
    "m3_free_df.optimize('bfgs', messages=1, max_iters=2000)"
   ]
  },
  {
   "cell_type": "code",
   "execution_count": 18,
   "metadata": {
    "collapsed": false
   },
   "outputs": [
    {
     "data": {
      "text/html": [
       "<style type=\"text/css\">\n",
       ".pd{\n",
       "    font-family: \"Courier New\", Courier, monospace !important;\n",
       "    width: 100%;\n",
       "    padding: 3px;\n",
       "}\n",
       "</style>\n",
       "\n",
       "<p class=pd>\n",
       "<b>Model</b>: multi_stut<br>\n",
       "<b>Objective</b>: 135.80348791<br>\n",
       "<b>Number of Parameters</b>: 11668<br>\n",
       "<b>Number of Optimization Parameters</b>: 11560<br>\n",
       "<b>Updates</b>: True<br>\n",
       "</p>\n",
       "<style type=\"text/css\">\n",
       ".tg  {font-family:\"Courier New\", Courier, monospace !important;padding:2px 3px;word-break:normal;border-collapse:collapse;border-spacing:0;border-color:#DCDCDC;margin:0px auto;width:100%;}\n",
       ".tg td{font-family:\"Courier New\", Courier, monospace !important;font-weight:bold;color:#444;background-color:#F7FDFA;border-style:solid;border-width:1px;overflow:hidden;word-break:normal;border-color:#DCDCDC;}\n",
       ".tg th{font-family:\"Courier New\", Courier, monospace !important;font-weight:normal;color:#fff;background-color:#26ADE4;border-style:solid;border-width:1px;overflow:hidden;word-break:normal;border-color:#DCDCDC;}\n",
       ".tg .tg-left{font-family:\"Courier New\", Courier, monospace !important;font-weight:normal;text-align:left;}\n",
       ".tg .tg-center{font-family:\"Courier New\", Courier, monospace !important;font-weight:normal;text-align:center;}\n",
       ".tg .tg-right{font-family:\"Courier New\", Courier, monospace !important;font-weight:normal;text-align:right;}\n",
       "</style>\n",
       "<table class=\"tg\"><tr><th><b>  multi_stut.                </b></th><th><b>         value</b></th><th><b>constraints</b></th><th><b>priors</b></th></tr>\n",
       "<tr><td class=tg-left>  inducing inputs            </td><td class=tg-right>      (106, 1)</td><td class=tg-center>   fixed   </td><td class=tg-center>      </td></tr>\n",
       "<tr><td class=tg-left>  Hetro_Student_T.deg_free   </td><td class=tg-right> 1.33035035097</td><td class=tg-center>    +ve    </td><td class=tg-center>      </td></tr>\n",
       "<tr><td class=tg-left>  q_u_means                  </td><td class=tg-right>      (106, 2)</td><td class=tg-center>           </td><td class=tg-center>      </td></tr>\n",
       "<tr><td class=tg-left>  qf_u_chols                 </td><td class=tg-right>     (5671, 2)</td><td class=tg-center>           </td><td class=tg-center>      </td></tr>\n",
       "<tr><td class=tg-left>  kernf.kernf_rbf.variance   </td><td class=tg-right>0.644621420741</td><td class=tg-center>    +ve    </td><td class=tg-center>      </td></tr>\n",
       "<tr><td class=tg-left>  kernf.kernf_rbf.lengthscale</td><td class=tg-right>0.265937076398</td><td class=tg-center>    +ve    </td><td class=tg-center>      </td></tr>\n",
       "<tr><td class=tg-left>  kernf.f_white.variance     </td><td class=tg-right>         0.001</td><td class=tg-center> +ve fixed </td><td class=tg-center>      </td></tr>\n",
       "<tr><td class=tg-left>  kerng.kerng_rbf.variance   </td><td class=tg-right>   2.433154043</td><td class=tg-center>    +ve    </td><td class=tg-center>      </td></tr>\n",
       "<tr><td class=tg-left>  kerng.kerng_rbf.lengthscale</td><td class=tg-right>0.390646296773</td><td class=tg-center>    +ve    </td><td class=tg-center>      </td></tr>\n",
       "<tr><td class=tg-left>  kerng.g_white.variance     </td><td class=tg-right>         0.001</td><td class=tg-center> +ve fixed </td><td class=tg-center>      </td></tr>\n",
       "<tr><td class=tg-left>  constmap.C                 </td><td class=tg-right>-2.50500588193</td><td class=tg-center>           </td><td class=tg-center>      </td></tr>\n",
       "</table>"
      ],
      "text/plain": [
       "<chained_gp.svgp_multi.SVGPMulti at 0x11881c050>"
      ]
     },
     "execution_count": 18,
     "metadata": {},
     "output_type": "execute_result"
    }
   ],
   "source": [
    "m3_free_df"
   ]
  },
  {
   "cell_type": "code",
   "execution_count": 19,
   "metadata": {
    "collapsed": false
   },
   "outputs": [
    {
     "data": {
      "text/plain": [
       "<matplotlib.image.AxesImage at 0x118c37c50>"
      ]
     },
     "execution_count": 19,
     "metadata": {},
     "output_type": "execute_result"
    },
    {
     "data": {
      "image/png": "[encoded data removed]",
      "text/plain": [
       "<matplotlib.figure.Figure at 0x114ec8b10>"
      ]
     },
     "metadata": {},
     "output_type": "display_data"
    }
   ],
   "source": [
    "plt.matshow(m3.kernf.K(m3.X))"
   ]
  },
  {
   "cell_type": "code",
   "execution_count": 20,
   "metadata": {
    "collapsed": false
   },
   "outputs": [
    {
     "name": "stdout",
     "output_type": "stream",
     "text": [
      "\n",
      "Name : gauss_single\n",
      "Objective : 173.880832592\n",
      "Number of Parameters : 110\n",
      "Number of Optimization Parameters : 109\n",
      "Updates : True\n",
      "Parameters:\n",
      "  \u001b[1mgauss_single.              \u001b[0;0m  |              value  |  constraints  |  priors\n",
      "  \u001b[1minducing inputs            \u001b[0;0m  |           (106, 1)  |               |        \n",
      "  \u001b[1mkernf.kernf_rbf.variance   \u001b[0;0m  |     0.614481229451  |      +ve      |        \n",
      "  \u001b[1mkernf.kernf_rbf.lengthscale\u001b[0;0m  |     0.277139032745  |      +ve      |        \n",
      "  \u001b[1mkernf.f_white.variance     \u001b[0;0m  |  2.97952315372e-08  |   +ve fixed   |        \n",
      "  \u001b[1mGaussian_noise.variance    \u001b[0;0m  |      1.32366475514  |      +ve      |        \n"
     ]
    }
   ],
   "source": [
    "print m1"
   ]
  },
  {
   "cell_type": "code",
   "execution_count": 21,
   "metadata": {
    "collapsed": false
   },
   "outputs": [
    {
     "name": "stdout",
     "output_type": "stream",
     "text": [
      "\n",
      "Name : multi_gauss\n",
      "Objective : 149.054192611\n",
      "Number of Parameters : 11667\n",
      "Number of Optimization Parameters : 11665\n",
      "Updates : True\n",
      "Parameters:\n",
      "  \u001b[1mmulti_gauss.               \u001b[0;0m  |            value  |  constraints  |  priors\n",
      "  \u001b[1minducing inputs            \u001b[0;0m  |         (106, 1)  |               |        \n",
      "  \u001b[1mq_u_means                  \u001b[0;0m  |         (106, 2)  |               |        \n",
      "  \u001b[1mqf_u_chols                 \u001b[0;0m  |        (5671, 2)  |               |        \n",
      "  \u001b[1mkernf.kernf_rbf.variance   \u001b[0;0m  |   0.748853085134  |      +ve      |        \n",
      "  \u001b[1mkernf.kernf_rbf.lengthscale\u001b[0;0m  |   0.339295295775  |      +ve      |        \n",
      "  \u001b[1mkernf.f_white.variance     \u001b[0;0m  |            0.001  |   +ve fixed   |        \n",
      "  \u001b[1mkerng.kerng_rbf.variance   \u001b[0;0m  |    2.10280793312  |      +ve      |        \n",
      "  \u001b[1mkerng.kerng_rbf.lengthscale\u001b[0;0m  |  0.0033915789361  |      +ve      |        \n",
      "  \u001b[1mkerng.g_white.variance     \u001b[0;0m  |            0.001  |   +ve fixed   |        \n",
      "  \u001b[1mconstmap.C                 \u001b[0;0m  |  -0.988675088243  |               |        \n"
     ]
    }
   ],
   "source": [
    "print m2"
   ]
  },
  {
   "cell_type": "code",
   "execution_count": 22,
   "metadata": {
    "collapsed": false
   },
   "outputs": [
    {
     "name": "stdout",
     "output_type": "stream",
     "text": [
      "\n",
      "Name : multi_stut\n",
      "Objective : 143.354628037\n",
      "Number of Parameters : 11668\n",
      "Number of Optimization Parameters : 11665\n",
      "Updates : True\n",
      "Parameters:\n",
      "  \u001b[1mmulti_stut.                \u001b[0;0m  |            value  |  constraints  |  priors\n",
      "  \u001b[1minducing inputs            \u001b[0;0m  |         (106, 1)  |               |        \n",
      "  \u001b[1mHetro_Student_T.deg_free   \u001b[0;0m  |              4.0  |   +ve fixed   |        \n",
      "  \u001b[1mq_u_means                  \u001b[0;0m  |         (106, 2)  |               |        \n",
      "  \u001b[1mqf_u_chols                 \u001b[0;0m  |        (5671, 2)  |               |        \n",
      "  \u001b[1mkernf.kernf_rbf.variance   \u001b[0;0m  |   0.731412444013  |      +ve      |        \n",
      "  \u001b[1mkernf.kernf_rbf.lengthscale\u001b[0;0m  |   0.318096185315  |      +ve      |        \n",
      "  \u001b[1mkernf.f_white.variance     \u001b[0;0m  |            0.001  |   +ve fixed   |        \n",
      "  \u001b[1mkerng.kerng_rbf.variance   \u001b[0;0m  |    2.99876783401  |      +ve      |        \n",
      "  \u001b[1mkerng.kerng_rbf.lengthscale\u001b[0;0m  |  0.0664788036712  |      +ve      |        \n",
      "  \u001b[1mkerng.g_white.variance     \u001b[0;0m  |            0.001  |   +ve fixed   |        \n",
      "  \u001b[1mconstmap.C                 \u001b[0;0m  |   -1.50329803694  |               |        \n"
     ]
    }
   ],
   "source": [
    "print m3"
   ]
  },
  {
   "cell_type": "code",
   "execution_count": 23,
   "metadata": {
    "collapsed": false
   },
   "outputs": [
    {
     "data": {
      "image/png": "[encoded data removed]",
      "text/plain": [
       "<matplotlib.figure.Figure at 0x118865fd0>"
      ]
     },
     "metadata": {},
     "output_type": "display_data"
    }
   ],
   "source": [
    "sort_inds = X.argsort(axis=0)\n",
    "X_sorted = X[sort_inds].reshape(X.shape[0], 1)\n",
    "Y_sorted = Y[sort_inds].reshape(X.shape[0], 1)\n",
    "\n",
    "\n",
    "X_full = np.linspace(-2, 2.5, 100)[:, None]\n",
    "mu_gauss, var_gauss = m1.predict(X_full)\n",
    "mu_multi_gauss, _ = m2._raw_predict(X_full, 0)\n",
    "var_multi_gauss, _ = m2._raw_predict(X_full, 1)\n",
    "mu_multi_stut, _ = m3._raw_predict(X_full, 0)\n",
    "var_multi_stut, _ = m3._raw_predict(X_full, 1)\n",
    "mu_multi_stut_free_df, _ = m3_free_df._raw_predict(X_full, 0)\n",
    "var_multi_stut_free_df, _ = m3_free_df._raw_predict(X_full, 1)\n",
    "\n",
    "#outlier = Y_sorted > (mu_multi_stut + 3*np.sqrt(np.exp(var_multi_stut)))\n",
    "dashes = (3,3)\n",
    "calpha = 0.5\n",
    "#fig, (ax1, ax2, ax3, ax4) = plt.subplots(1, 4, sharey=True)\n",
    "fig, (ax1, ax2, ax3) = plt.subplots(1, 3, sharey=True)\n",
    "ax1.plot(X_sorted, Y_sorted, 'o', mfc='none')\n",
    "ax1.plot(X_full, mu_gauss, 'b-')\n",
    "ax1.plot(X_full, mu_gauss + 2*np.sqrt(var_gauss), 'b--', dashes=dashes)\n",
    "ax1.plot(X_full, mu_gauss - 2*np.sqrt(var_gauss), 'b--', dashes=dashes)\n",
    "ax1.set_title('Standard Gaussian Process')\n",
    "ax1.plot(X[corrupt_inds], Y[corrupt_inds], 'ro', alpha=calpha)\n",
    "\n",
    "ax2.plot(X_sorted, Y_sorted, 'o', mfc='none', alpha=0.01)\n",
    "ax2.plot(X_full, mu_multi_gauss, 'b-')\n",
    "ax2.plot(X_full, mu_multi_gauss + 2*np.sqrt(np.exp(var_multi_gauss)), 'b--', dashes=dashes)\n",
    "ax2.plot(X_full, mu_multi_gauss - 2*np.sqrt(np.exp(var_multi_gauss)), 'b--', dashes=dashes)\n",
    "ax2.set_title('Heteroscedastic Gaussian')\n",
    "ax2.plot(X[corrupt_inds], Y[corrupt_inds], 'ro', alpha=calpha)\n",
    "\n",
    "\n",
    "#ax3.plot(X_sorted, Y_sorted, 'o', mfc='none', alpha=0.01)\n",
    "#ax3.plot(X_full, mu_multi_stut, 'b-')\n",
    "#df = m3.likelihood.deg_free\n",
    "#real_multi_stut_var = (df / (df - 2.0))*np.exp(var_multi_stut)\n",
    "#ax3.plot(X_full, mu_multi_stut + real_multi_stut_var, 'b--', dashes=dashes)\n",
    "#ax3.plot(X_full, mu_multi_stut - real_multi_stut_var, 'b--', dashes=dashes)\n",
    "#ax3.set_title('Heteroscedastic StuT')\n",
    "#ax3.plot(X[corrupt_inds], Y[corrupt_inds], 'ro', alpha=calpha)\n",
    "\n",
    "#With df free\n",
    "ax3.plot(X_sorted, Y_sorted, 'o', mfc='none', alpha=0.01)\n",
    "ax3.plot(X_full, mu_multi_stut, 'b-')\n",
    "df = m3_free_df.likelihood.deg_free\n",
    "real_multi_stut_var = (df / (df - 2.0))*np.exp(var_multi_stut_free_df)\n",
    "ax3.plot(X_full, mu_multi_stut_free_df + real_multi_stut_var, 'b--', dashes=dashes)\n",
    "ax3.plot(X_full, mu_multi_stut_free_df - real_multi_stut_var, 'b--', dashes=dashes)\n",
    "ax3.set_title('Heteroscedastic StuT')\n",
    "ax3.plot(X[corrupt_inds], Y[corrupt_inds], 'ro', alpha=calpha)\n",
    "\n",
    "import matplotlib.ticker as plticker\n",
    "loc = plticker.MultipleLocator(base=1.0) # this locator puts ticks at regular intervals\n",
    "ax1.xaxis.set_major_locator(loc)\n",
    "ax2.xaxis.set_major_locator(loc)\n",
    "ax3.xaxis.set_major_locator(loc)\n",
    "\n",
    "#plt.rcParams['text.latex.unicode']=True\n",
    "#plt.rcParams['text.usetex']=True\n",
    "#plt.rcParams['pgf.texsystem'] = 'pdflatex'\n",
    "#fig.savefig('corrupt_motorcycleeps.eps', dpi=500)\n",
    "\n",
    "#from matplotlib2tikz import save as tikz_save\n",
    "#tikz_save('corrupt_motorcycle_all.tikz', figure=fig)"
   ]
  }
 ],
 "metadata": {
  "kernelspec": {
   "display_name": "Python 2",
   "language": "python",
   "name": "python2"
  },
  "language_info": {
   "codemirror_mode": {
    "name": "ipython",
    "version": 2
   },
   "file_extension": ".py",
   "mimetype": "text/x-python",
   "name": "python",
   "nbconvert_exporter": "python",
   "pygments_lexer": "ipython2",
   "version": "2.7.11"
  }
 },
 "nbformat": 4,
 "nbformat_minor": 0
}
